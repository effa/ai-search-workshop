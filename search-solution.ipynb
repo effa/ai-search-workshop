{
 "cells": [
  {
   "cell_type": "markdown",
   "metadata": {},
   "source": [
    "# Prohledávání stavového prostoru\n",
    "(Základní techniky umělé inteligence)"
   ]
  },
  {
   "cell_type": "code",
   "execution_count": 116,
   "metadata": {},
   "outputs": [],
   "source": [
    "# Pomocne funkce a tridy\n",
    "# TODO: vyfaktorovat do samostatneho modulu\n",
    "from collections import namedtuple\n",
    "Position = namedtuple('Position', ['row', 'col'])\n",
    "\n",
    "class State:\n",
    "    def __init__(self, world):\n",
    "        # TODO: enforce immutability\n",
    "        # TODO: allow for state[position]\n",
    "        self.world = world\n",
    "        self.n = max(pos.row for pos in world) + 1\n",
    "        self.m = max(pos.col for pos in world) + 1\n",
    "        # finds spaceship\n",
    "        self.spaceship = None\n",
    "        for pos, field in world.items():\n",
    "            if field == 'S':\n",
    "                self.spaceship = pos\n",
    "                break\n",
    "        # We allow for plans without a spaceship\n",
    "        # (used e.g. by show_path)\n",
    "\n",
    "    def is_goal(self):\n",
    "        return self.spaceship.row == 0\n",
    "        \n",
    "    def __str__(self):\n",
    "        # TODO: sjednotit vypis a parsovani (ekvivalentni reprezentace)\n",
    "        # TODO: also add __repr__ for debugging (State('''...''')\n",
    "        fields = [[\n",
    "            self.world[(Position(row, col))]\n",
    "            for col in range(self.m)]\n",
    "                for row in range(self.n)]\n",
    "        text = '\\n'.join(''.join(row) for row in fields)\n",
    "        text = text.replace(' ', '.')\n",
    "        return text\n",
    "        \n",
    "    \n",
    "    \n",
    "def perform(state, action):\n",
    "    # TODO: thow an error if the resulting state is dead (?)\n",
    "    # (or allow for representation of dead states)\n",
    "    world = state.world.copy()\n",
    "    spaceship = move(state.spaceship, action)\n",
    "    world[state.spaceship] = ' '\n",
    "    world[spaceship] = 'S' \n",
    "    return State(world)\n",
    "\n",
    "def move(spaceship, action):\n",
    "    dy = -1\n",
    "    dx = -1 if action == 'l' else 0 if action == 'f' else 1\n",
    "    new_spaceship = Position(\n",
    "        row=spaceship.row + dy,\n",
    "        col=spaceship.col + dx)\n",
    "    return new_spaceship    \n",
    "\n",
    "\n",
    "def actions(state):\n",
    "    \"\"\"Return actions that don't lead to dead state.\n",
    "    \"\"\"\n",
    "    return [\n",
    "        a for a in 'lfr'\n",
    "        if state.world.get(move(state.spaceship, a), 'A') != 'A']     \n",
    "\n",
    "        \n",
    "def parse_state(text):\n",
    "    rows = text.strip().split('||')\n",
    "    fields = [row.strip('|').split('|') for row in rows]\n",
    "    world = {}\n",
    "    spaceship = None\n",
    "    for r, row in enumerate(fields):\n",
    "        for c, field in enumerate(row):\n",
    "            world[Position(r, c)] = field\n",
    "            if field == 'S':\n",
    "                spaceship = Position(r, c)\n",
    "    return State(world) \n",
    "        \n",
    "        \n",
    "def show_path(path):\n",
    "    # path = iterable of States\n",
    "    # Constructs a pseudo-state showing the path\n",
    "    world = path[0].world.copy()\n",
    "    for i, state in enumerate(path):\n",
    "        world[state.spaceship] = str(i)\n",
    "    print(State(world))\n",
    "        \n",
    "\n",
    "\n",
    "state = parse_state(\n",
    "'| | | | | |'\n",
    "'| | | | | |'\n",
    "'|A|A|A|A| |'\n",
    "'| | | | | |'\n",
    "'| | |S| | |')\n",
    "#print(state)\n",
    "\n",
    "\n",
    "# stav: pozice raketky (row, col)\n",
    "# (zbytek sveta je nemenny)\n",
    "\n",
    "# akce: 'l', 'f', 'r' (left, forward, right)\n",
    "#print(perform(perform(perform(state, 'r'), 'r'), 'l'))"
   ]
  },
  {
   "cell_type": "code",
   "execution_count": 121,
   "metadata": {},
   "outputs": [
    {
     "data": {
      "text/html": [
       "\n",
       "        <style>\n",
       "          table {\n",
       "            border-collapse: collapse;\n",
       "          }\n",
       "          table, td {\n",
       "            border: 1px solid black;\n",
       "          }   \n",
       "        </style>\n",
       "        <table><tr><td>.</td><td>.</td><td>.</td><td>.</td><td>.</td></tr><tr><td>.</td><td>.</td><td>.</td><td>.</td><td>.</td></tr><tr><td>A</td><td>A</td><td>A</td><td>A</td><td>.</td></tr><tr><td>.</td><td>.</td><td>.</td><td>.</td><td>.</td></tr><tr><td>.</td><td>.</td><td>S</td><td>.</td><td>.</td></tr></table>"
      ],
      "text/plain": [
       "<IPython.core.display.HTML object>"
      ]
     },
     "metadata": {},
     "output_type": "display_data"
    }
   ],
   "source": [
    "# TODO: colored-table (or even better: use our react component)\n",
    "from IPython.display import HTML, display\n",
    "\n",
    "def show_state(state):\n",
    "    text = str(state).split('\\n')\n",
    "    html = HTML('''\n",
    "        <style>\n",
    "          table {\n",
    "            border-collapse: collapse;\n",
    "          }\n",
    "          table, td {\n",
    "            border: 1px solid black;\n",
    "          }   \n",
    "        </style>\n",
    "        ''' + \n",
    "        '<table><tr>{}</tr></table>'.format(\n",
    "            '</tr><tr>'.join(\n",
    "                '<td>{}</td>'.format(\n",
    "                    '</td><td>'.join(\n",
    "                        field for field in row)) for row in text)))\n",
    "    display(html)\n",
    "    \n",
    "show_state(state)"
   ]
  },
  {
   "cell_type": "code",
   "execution_count": 75,
   "metadata": {},
   "outputs": [
    {
     "name": "stdout",
     "output_type": "stream",
     "text": [
      ".....\n",
      ".....\n",
      "AAAA.\n",
      ".....\n",
      "..S..\n"
     ]
    }
   ],
   "source": []
  },
  {
   "cell_type": "markdown",
   "metadata": {},
   "source": [
    "## DFS"
   ]
  },
  {
   "cell_type": "code",
   "execution_count": 120,
   "metadata": {},
   "outputs": [],
   "source": [
    "# TODO: implement\n",
    "# def dfs(initial_state):\n",
    "#     stack = [initial_state]\n",
    "#     parents = {}\n",
    "#     while stack:\n",
    "#         state = stack.pop()\n",
    "#         if state.is_goal():           \n",
    "        "
   ]
  },
  {
   "cell_type": "code",
   "execution_count": 118,
   "metadata": {},
   "outputs": [
    {
     "name": "stdout",
     "output_type": "stream",
     "text": [
      "..4..\n",
      "...3.\n",
      "AAAA2\n",
      "...1.\n",
      "..0..\n"
     ]
    }
   ],
   "source": [
    "# Tree-DFS pomoci rekurze (nehlida zacykleni)\n",
    "def dfs(state):\n",
    "    \"\"\"Return path from state to a goal state\"\"\"\n",
    "    #print('---\\nstate:\\n' + str(state))\n",
    "    #input()\n",
    "    if state.is_goal():\n",
    "        return [state]\n",
    "    for action in actions(state):      \n",
    "        next_state = perform(state, action)\n",
    "        path = dfs(next_state)\n",
    "        if path:\n",
    "            return [state] + path\n",
    "    return None  # no path found\n",
    "\n",
    "state = parse_state(\n",
    "'| | | | | |'\n",
    "'| | | | | |'\n",
    "'|A|A|A|A| |'\n",
    "'| | | | | |'\n",
    "'| | |S| | |')\n",
    "show_path(dfs(state))"
   ]
  },
  {
   "cell_type": "code",
   "execution_count": null,
   "metadata": {},
   "outputs": [],
   "source": []
  },
  {
   "cell_type": "markdown",
   "metadata": {},
   "source": [
    "## TODO\n",
    "\n",
    "- intro\n",
    "- DFS\n",
    "- DFS - explain tree search vs. graph search\n",
    "- nastroje pro pohodlne ladeni vsech algoritmu (vizualizace cesty i prubehu planovani (explored/frontier/unexplored states) -> umoznit vypisy (ala logger), vcetne textovych (-> muzu zkopirovat text stavu a vyzkouset si zacit z neho atp.)\n",
    "- DFS - recursive version\n",
    "- BFS\n",
    "- UCS\n",
    "- A\\*\n",
    "- refaktorovat (zprehlednit, zjednodusit, okomenotvat) kod\n",
    "- inline react component for visualizing states, paths (and ideally also allow to play the game... or at least provide a link to task-editor)\n",
    "- rezerva: greedy search, BF, DP, \"patnáctka\" (sliding tiles)\n",
    "- parsovani sveta (jako v JS)\n",
    "- vyfaktorovat pomocné funkce do samostatného .py modulu\n",
    "- hezčí vykreslování stavu (HTML tabulka, react components)\n",
    "- another notebook with stripped solutions\n",
    "- inspirace: Jak to vyresit, Programatorska cvicebnice, Sbirka do Navalu, KSI (napr. Honzovo bludiste, davna DFS/BFS videa), Ucadity AI, EdX AI lecture, google\n",
    "- testing by friends\n",
    "- utopicke: pridat jako dalsi level do RoboMise (s pripravenymi high-level bloky a/nebo v RoboKodu)"
   ]
  },
  {
   "cell_type": "markdown",
   "metadata": {},
   "source": [
    "## Rozšíření\n",
    "* protihráč -> minimax\n",
    "* náhoda, nejistota -> expectimax, MDP (value iteration - DP)\n",
    "* too many states (even infinitely many of them)\n",
    "* continuous actions\n",
    "* ...\n",
    "\n",
    "## Další zdroje\n",
    "* TBA: videa z AI kurzu na EdX"
   ]
  },
  {
   "cell_type": "code",
   "execution_count": null,
   "metadata": {},
   "outputs": [],
   "source": []
  },
  {
   "cell_type": "code",
   "execution_count": null,
   "metadata": {},
   "outputs": [],
   "source": []
  },
  {
   "cell_type": "code",
   "execution_count": null,
   "metadata": {},
   "outputs": [],
   "source": []
  }
 ],
 "metadata": {
  "kernelspec": {
   "display_name": "Python 3",
   "language": "python",
   "name": "python3"
  },
  "language_info": {
   "codemirror_mode": {
    "name": "ipython",
    "version": 3
   },
   "file_extension": ".py",
   "mimetype": "text/x-python",
   "name": "python",
   "nbconvert_exporter": "python",
   "pygments_lexer": "ipython3",
   "version": "3.6.4"
  }
 },
 "nbformat": 4,
 "nbformat_minor": 2
}
