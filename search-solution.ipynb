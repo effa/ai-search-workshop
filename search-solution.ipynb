{
 "cells": [
  {
   "cell_type": "markdown",
   "metadata": {},
   "source": [
    "# Prohledávání stavového prostoru\n",
    "(Základní techniky umělé inteligence)"
   ]
  },
  {
   "cell_type": "code",
   "execution_count": 1,
   "metadata": {},
   "outputs": [],
   "source": [
    "from robomission import SpaceWorld"
   ]
  },
  {
   "cell_type": "code",
   "execution_count": 76,
   "metadata": {},
   "outputs": [],
   "source": [
    "# Pomocne funkce a tridy\n",
    "# TODO: vyfaktorovat do samostatneho modulu\n",
    "from collections import namedtuple, defaultdict, deque\n",
    "Position = namedtuple('Position', ['row', 'col'])\n",
    "\n",
    "class State:\n",
    "    def __init__(self, world):\n",
    "        # TODO: enforce immutability\n",
    "        # TODO: allow for state[position]\n",
    "        self.world = world\n",
    "        self.n = max(pos.row for pos in world) + 1\n",
    "        self.m = max(pos.col for pos in world) + 1\n",
    "        # finds spaceship\n",
    "        self.spaceship = None\n",
    "        for pos, field in world.items():\n",
    "            if field == 'S':\n",
    "                self.spaceship = pos\n",
    "                break\n",
    "        # cache wormholes\n",
    "        wormholes = defaultdict(list)\n",
    "        for pos, field in world.items():\n",
    "            if field in 'WXYZ':\n",
    "                wormholes[field].append(pos)\n",
    "        self.wormhole_positions = []\n",
    "        self.wormhole_end = {}\n",
    "        for letter, positions in wormholes.items():\n",
    "            if len(positions) != 2:\n",
    "                continue\n",
    "                #raise ValueError('Expects exectly 2 wormholes of given type.')\n",
    "            self.wormhole_positions.extend(positions)\n",
    "            self.wormhole_end[positions[0]] = positions[1]\n",
    "            self.wormhole_end[positions[1]] = positions[0]\n",
    "        # We allow for plans without a spaceship\n",
    "        # (used e.g. by show_path)\n",
    "        self.world_vis = SpaceWorld()\n",
    "\n",
    "    def is_goal(self):\n",
    "        return self.spaceship.row == 0\n",
    "    \n",
    "    def show(self):\n",
    "        # TODO: use jupyter-display\n",
    "        # hack to overcome bug with empty fields\n",
    "        text = str(self).replace('| ', '|k')\n",
    "        self.world_vis.set(text)\n",
    "        \n",
    "    def is_wormhole(self, position):\n",
    "        return position in self.wormhole_positions\n",
    "    \n",
    "    def get_wormhole_end(self, position):\n",
    "        return self.wormhole_end[position]\n",
    "        \n",
    "    def __str__(self):\n",
    "        # TODO: add __repr__ for debugging (State('''...''')\n",
    "        fields = [[\n",
    "            self.world[(Position(row, col))]\n",
    "            for col in range(self.m)]\n",
    "                for row in range(self.n)]\n",
    "        text = '\\n'.join('|{inside}|'.format(inside='|'.join(row)) for row in fields)\n",
    "        #text = text.replace(' ', '.')\n",
    "        return text\n",
    "        \n",
    "    \n",
    "    \n",
    "def perform(state, action):\n",
    "    # TODO: thow an error if the resulting state is dead (?)\n",
    "    # (or allow for representation of dead states)\n",
    "    world = state.world.copy()\n",
    "    spaceship = move(state.spaceship, action)\n",
    "    if state.is_wormhole(spaceship):\n",
    "        spaceship = state.get_wormhole_end(spaceship)\n",
    "    world[state.spaceship] = ' '\n",
    "    world[spaceship] = 'S' \n",
    "    return State(world)\n",
    "\n",
    "def move(spaceship, action):\n",
    "    dy = -1\n",
    "    dx = -1 if action == 'l' else 0 if action == 'f' else 1\n",
    "    new_spaceship = Position(\n",
    "        row=spaceship.row + dy,\n",
    "        col=spaceship.col + dx)\n",
    "    return new_spaceship    \n",
    "\n",
    "\n",
    "def actions(state):\n",
    "    \"\"\"Return actions that don't lead to dead state.\n",
    "    \"\"\"\n",
    "    return [\n",
    "        a for a in 'lfr'\n",
    "        if state.world.get(move(state.spaceship, a), 'A') != 'A']     \n",
    "\n",
    "        \n",
    "def parse_state(text):\n",
    "    rows = text.strip().split('||')\n",
    "    fields = [row.strip('|').split('|') for row in rows]\n",
    "    world = {}\n",
    "    spaceship = None\n",
    "    for r, row in enumerate(fields):\n",
    "        for c, field in enumerate(row):\n",
    "            world[Position(r, c)] = field\n",
    "            if field == 'S':\n",
    "                spaceship = Position(r, c)\n",
    "    return State(world) \n",
    "        \n",
    "        \n",
    "def show_path(path):\n",
    "    # path = iterable of States\n",
    "    # Constructs a pseudo-state showing the path\n",
    "    world = path[0].world.copy()\n",
    "    for i, state in enumerate(path):\n",
    "        world[state.spaceship] = str(i)\n",
    "    print(State(world))\n",
    "        \n",
    "\n",
    "\n",
    "state = parse_state(\n",
    "'| | | | | |'\n",
    "'| | | | | |'\n",
    "'|A|A|A|A| |'\n",
    "'| | | | | |'\n",
    "'| | |S| | |')\n",
    "#print(state)\n",
    "state.show()\n",
    "\n",
    "\n",
    "# state = parse_state(\n",
    "# '| | | | | |'\n",
    "# '| | | |W| |'\n",
    "# '|A|A|A|A| |'\n",
    "# '| | | | | |'\n",
    "# '| | |S| |W|')\n",
    "# print(state)\n",
    "# print(state.wormholes)\n",
    "# print(state.wormhole_end)\n",
    "\n",
    "\n",
    "# stav: pozice raketky (row, col)\n",
    "# (zbytek sveta je nemenny)\n",
    "\n",
    "# akce: 'l', 'f', 'r' (left, forward, right)\n",
    "#print(perform(perform(perform(state, 'r'), 'r'), 'l'))"
   ]
  },
  {
   "cell_type": "code",
   "execution_count": 125,
   "metadata": {},
   "outputs": [],
   "source": [
    "# Tools for debugging\n",
    "class Logger:\n",
    "    def __init__(self):\n",
    "        self.output = True\n",
    "        \n",
    "    def debug(self, output=True):\n",
    "        self.output = output\n",
    "    \n",
    "    def log(self, message):\n",
    "        if self.output:\n",
    "            print(message)\n",
    "            print('-------')\n",
    "    \n",
    "    def log_search_tree(self, parents):\n",
    "        self.log(search_tree_as_state(parents))\n",
    "\n",
    "    def log_costs(self, costs, heuristic=None):\n",
    "        self.log(costs_as_state(costs, heuristic))\n",
    "        \n",
    "\n",
    "# def inverse_tree(parents):\n",
    "#     root = None\n",
    "#     children = defaultdict(list)\n",
    "#     for child, parent in parents.items():\n",
    "#         if parent is None:\n",
    "#             root = child\n",
    "#         else:\n",
    "#             children[parent].append(child)\n",
    "#     return root, children\n",
    "\n",
    "def get_root(parents):\n",
    "    for child, parent in parents.items():\n",
    "        if parent is None:\n",
    "            return child\n",
    "        \n",
    "def get_depth(node, parents):\n",
    "    depth = 0\n",
    "    while parents[node] is not None:\n",
    "        node = parents[node]\n",
    "        depth += 1\n",
    "    return depth\n",
    "\n",
    "def search_tree_as_state(parents):\n",
    "    #root, children = inverse_tree(parents)\n",
    "    root = get_root(parents)\n",
    "    world = root.world.copy()\n",
    "    for state in parents.keys():\n",
    "        depth = get_depth(state, parents)\n",
    "        world[state.spaceship] = str(depth)\n",
    "    return State(world)    \n",
    "    \n",
    "def show_search_tree(parents):\n",
    "    print(search_tree_as_state(parents))   \n",
    "\n",
    "def costs_as_state(costs, heuristic=None):\n",
    "    heuristic = heuristic or (lambda x: 0)\n",
    "    world = next(iter(costs.keys())).world.copy()\n",
    "    for state in costs.keys():\n",
    "        total_cost = costs[state] + heuristic(state)\n",
    "        world[state.spaceship] = str(total_cost)\n",
    "    return State(world)\n",
    "\n",
    "\n",
    "LOGGER = Logger()"
   ]
  },
  {
   "cell_type": "code",
   "execution_count": 3,
   "metadata": {},
   "outputs": [],
   "source": [
    "w = SpaceWorld()\n",
    "w.set('''\n",
    "|D|b |bD|b |b |\n",
    "|k |k |kA|k |k |\n",
    "|k |kA|kA|kA|k |\n",
    "|k |k |kA|k |k |\n",
    "|k |k |kS|k |k |\n",
    "''')"
   ]
  },
  {
   "cell_type": "code",
   "execution_count": 121,
   "metadata": {},
   "outputs": [
    {
     "data": {
      "text/html": [
       "\n",
       "        <style>\n",
       "          table {\n",
       "            border-collapse: collapse;\n",
       "          }\n",
       "          table, td {\n",
       "            border: 1px solid black;\n",
       "          }   \n",
       "        </style>\n",
       "        <table><tr><td>.</td><td>.</td><td>.</td><td>.</td><td>.</td></tr><tr><td>.</td><td>.</td><td>.</td><td>.</td><td>.</td></tr><tr><td>A</td><td>A</td><td>A</td><td>A</td><td>.</td></tr><tr><td>.</td><td>.</td><td>.</td><td>.</td><td>.</td></tr><tr><td>.</td><td>.</td><td>S</td><td>.</td><td>.</td></tr></table>"
      ],
      "text/plain": [
       "<IPython.core.display.HTML object>"
      ]
     },
     "metadata": {},
     "output_type": "display_data"
    }
   ],
   "source": [
    "# TODO: colored-table (or even better: use our react component)\n",
    "from IPython.display import HTML, display\n",
    "\n",
    "def show_state(state):\n",
    "    text = str(state).split('\\n')\n",
    "    html = HTML('''\n",
    "        <style>\n",
    "          table {\n",
    "            border-collapse: collapse;\n",
    "          }\n",
    "          table, td {\n",
    "            border: 1px solid black;\n",
    "          }   \n",
    "        </style>\n",
    "        ''' + \n",
    "        '<table><tr>{}</tr></table>'.format(\n",
    "            '</tr><tr>'.join(\n",
    "                '<td>{}</td>'.format(\n",
    "                    '</td><td>'.join(\n",
    "                        field for field in row)) for row in text)))\n",
    "    display(html)\n",
    "    \n",
    "show_state(state)"
   ]
  },
  {
   "cell_type": "code",
   "execution_count": 75,
   "metadata": {},
   "outputs": [
    {
     "name": "stdout",
     "output_type": "stream",
     "text": [
      ".....\n",
      ".....\n",
      "AAAA.\n",
      ".....\n",
      "..S..\n"
     ]
    }
   ],
   "source": []
  },
  {
   "cell_type": "markdown",
   "metadata": {},
   "source": [
    "# Greedy Search (Hladové hledání)\n",
    "\n",
    "TODO: explain"
   ]
  },
  {
   "cell_type": "markdown",
   "metadata": {},
   "source": [
    "TODO: demonostrate needed functions (actions, is_goal, perform, append)"
   ]
  },
  {
   "cell_type": "code",
   "execution_count": 52,
   "metadata": {},
   "outputs": [
    {
     "name": "stdout",
     "output_type": "stream",
     "text": [
      "|A|A|4|A|A|\n",
      "|A|A|3|A|A|\n",
      "|A|2|A|A|A|\n",
      "|A|A|1|A|A|\n",
      "|A|A|0|A|A|\n"
     ]
    }
   ],
   "source": [
    "def greedy_search(state):\n",
    "    \"\"\"Return path from state to a goal state\"\"\"\n",
    "    path = [state]\n",
    "    while not state.is_goal():\n",
    "        available_actions = actions(state)\n",
    "        if not available_actions:\n",
    "            break # Failed to find a path.\n",
    "        # Choose the first available action (greedy choice).\n",
    "        action = available_actions[0]\n",
    "        state = perform(state, action)\n",
    "        path.append(state)\n",
    "    # Return the complete or the partial path.\n",
    "    return path\n",
    "\n",
    "# Jednoduchy pripad: vzdy dostupna prave jedna akce.\n",
    "state = parse_state(\n",
    "'|A|A| |A|A|'\n",
    "'|A|A| |A|A|'\n",
    "'|A| |A|A|A|'\n",
    "'|A|A| |A|A|'\n",
    "'|A|A|S|A|A|')\n",
    "show_path(greedy_search(state))"
   ]
  },
  {
   "cell_type": "code",
   "execution_count": 57,
   "metadata": {},
   "outputs": [
    {
     "name": "stdout",
     "output_type": "stream",
     "text": [
      "|5| | | | |\n",
      "|A|4|A| |A|\n",
      "|3| | | | |\n",
      "|A|2|A| |A|\n",
      "| |1| | | |\n",
      "| | |0| | |\n"
     ]
    }
   ],
   "source": [
    "# Greedy search bude fungovat i v pripade hodne\n",
    "# ridce rozmistenych prekazek.\n",
    "state = parse_state(\n",
    "'| | | | | |'\n",
    "'|A| |A| |A|'\n",
    "'| | | | | |'\n",
    "'|A| |A| |A|'\n",
    "'| | | | | |'\n",
    "'| | |S| | |')\n",
    "show_path(greedy_search(state))"
   ]
  },
  {
   "cell_type": "code",
   "execution_count": 56,
   "metadata": {},
   "outputs": [
    {
     "name": "stdout",
     "output_type": "stream",
     "text": [
      "| | | | | |\n",
      "|A|A| |A|A|\n",
      "|3| | | | |\n",
      "|2|A|A|A| |\n",
      "| |1| | | |\n",
      "| | |0| | |\n"
     ]
    }
   ],
   "source": [
    "# Obecne ale greedy search zadnou cestu do cile najit nemusi,\n",
    "# je mozne, ze se zasekne (ve \"slepe ulicce\").\n",
    "state = parse_state(\n",
    "'| | | | | |'\n",
    "'|A|A| |A|A|'\n",
    "'| | | | | |'\n",
    "'| |A|A|A| |'\n",
    "'| | | | | |'\n",
    "'| | |S| | |')\n",
    "show_path(greedy_search(state))"
   ]
  },
  {
   "cell_type": "markdown",
   "metadata": {},
   "source": [
    "# DFS"
   ]
  },
  {
   "cell_type": "code",
   "execution_count": 5,
   "metadata": {},
   "outputs": [
    {
     "name": "stdout",
     "output_type": "stream",
     "text": [
      "| | |4| | |\n",
      "| | | |3| |\n",
      "|A|A|A|A|2|\n",
      "| | | |1| |\n",
      "| | |0| | |\n"
     ]
    }
   ],
   "source": [
    "# Tree-DFS pomoci rekurze (nehlida zacykleni)\n",
    "def dfs(state):\n",
    "    \"\"\"Return path from state to a goal state\"\"\"\n",
    "    #print('---\\nstate:\\n' + str(state))\n",
    "    #input()\n",
    "    if state.is_goal():\n",
    "        return [state]\n",
    "    for action in actions(state):      \n",
    "        next_state = perform(state, action)\n",
    "        path = dfs(next_state)\n",
    "        if path:\n",
    "            return [state] + path\n",
    "    return None  # no path found\n",
    "\n",
    "state = parse_state(\n",
    "'| | | | | |'\n",
    "'| | | | | |'\n",
    "'|A|A|A|A| |'\n",
    "'| | | | | |'\n",
    "'| | |S| | |')\n",
    "show_path(dfs(state))"
   ]
  },
  {
   "cell_type": "code",
   "execution_count": 27,
   "metadata": {},
   "outputs": [
    {
     "name": "stdout",
     "output_type": "stream",
     "text": [
      "['a', 'b', 'c', 'd']\n",
      "['a', 'b', 'c']\n",
      "['a', 'b']\n"
     ]
    }
   ],
   "source": [
    "# Zasobnik = pridavame a odebirame ze stejneho konce,\n",
    "# napr. stos knih, naskladane talire.\n",
    "stack = ['a', 'b', 'c']  # vrchol zasobniku je vpravo ('c')\n",
    "stack.append('d')  # pridani 'd' na vrchol zasobniku\n",
    "print(stack)  # ['a', 'b', 'c', 'd']\n",
    "stack.pop()  # odebrani prvku 'd' z vrcholu zasobniku\n",
    "print(stack)  # ['a', 'b', 'c']\n",
    "stack.pop()  # odebrani prvku 'c' z vrcholu zasobniku\n",
    "print(stack)  # ['a', 'b']"
   ]
  },
  {
   "cell_type": "code",
   "execution_count": 25,
   "metadata": {},
   "outputs": [
    {
     "name": "stdout",
     "output_type": "stream",
     "text": [
      "| | | | |4|\n",
      "| | | | |3|\n",
      "|A|A|A|A|2|\n",
      "| | | |1| |\n",
      "| | |0| | |\n"
     ]
    }
   ],
   "source": [
    "# Terminology: tree vs. parents?\n",
    "def reconstruct_path(tree, state):\n",
    "    reversed_path = []\n",
    "    while state is not None:\n",
    "        reversed_path.append(state)\n",
    "        state = tree[state]\n",
    "    path = list(reversed(reversed_path))\n",
    "    return path\n",
    "\n",
    "    \n",
    "# tree search - bez kontroly zacykleni\n",
    "def iterative_dfs(initial_state):\n",
    "    stack = [initial_state]\n",
    "    tree = {initial_state: None}  # maps nodes to their parents\n",
    "    while stack:\n",
    "        LOGGER.log_search_tree(tree)\n",
    "        state = stack.pop()\n",
    "        if state.is_goal():\n",
    "            return reconstruct_path(tree, state)\n",
    "        for action in actions(state):\n",
    "            next_state = perform(state, action)\n",
    "            stack.append(next_state)\n",
    "            tree[next_state] = state\n",
    "            \n",
    "\n",
    "LOGGER.debug(False)\n",
    "state = parse_state(\n",
    "'| | | | | |'\n",
    "'| | | | | |'\n",
    "'|A|A|A|A| |'\n",
    "'| | | | | |'\n",
    "'| | |S| | |')\n",
    "show_path(iterative_dfs(state))"
   ]
  },
  {
   "cell_type": "code",
   "execution_count": 45,
   "metadata": {
    "scrolled": true
   },
   "outputs": [
    {
     "name": "stdout",
     "output_type": "stream",
     "text": [
      "| | | | |4|\n",
      "| | | | |3|\n",
      "|A|A|A|A|2|\n",
      "| | | |1| |\n",
      "| | |0| | |\n"
     ]
    }
   ],
   "source": [
    "# graph search - bez duplicitnich vypoctu a moznosti zacykleni\n",
    "# TODO: potreba motivovat prikladem (zacykleni by potrebovalo\n",
    "# cervi diry, ale redundantni vypocty lze i bez toho)\n",
    "def graph_dfs(initial_state):\n",
    "    # Potrebujeme ukladat i rodice (tj. ukladame hrany)\n",
    "    # TODO: check jestli tohle neni potreba i v tree-searchi\n",
    "    stack = [(initial_state, None)]\n",
    "    tree = {}  # maps states to their parents\n",
    "    while stack:\n",
    "        state, parent = stack.pop()\n",
    "        # TODO: check what is the correct place for the test\n",
    "        if state in tree: # = is visited\n",
    "            continue\n",
    "        tree[state] = parent\n",
    "        LOGGER.log_search_tree(tree)\n",
    "        if state.is_goal():\n",
    "            return reconstruct_path(tree, state)\n",
    "        for action in actions(state):\n",
    "            next_state = perform(state, action)\n",
    "            stack.append((next_state, state))       \n",
    "\n",
    "LOGGER.debug(False)\n",
    "state = parse_state(\n",
    "'| | | | | |'\n",
    "'| | | | | |'\n",
    "'|A|A|A|A| |'\n",
    "'| | | | | |'\n",
    "'| | |S| | |')\n",
    "show_path(graph_dfs(state))            "
   ]
  },
  {
   "cell_type": "markdown",
   "metadata": {},
   "source": [
    "Co DFS nezvladne: pokud nejsou reseni ve stejne hloubce (a pritom chceme najit optimalni cestu). Priklad s cervimi dirami:"
   ]
  },
  {
   "cell_type": "code",
   "execution_count": 78,
   "metadata": {},
   "outputs": [
    {
     "name": "stdout",
     "output_type": "stream",
     "text": [
      "| | | | |5|\n",
      "| | | |W|4|\n",
      "| | | | |3|\n",
      "| | |W| |2|\n",
      "| | |A|1| |\n",
      "| | |0| | |\n"
     ]
    }
   ],
   "source": [
    "LOGGER.debug(False)\n",
    "state = parse_state(\n",
    "'| | | | | |'\n",
    "'| | | |W| |'\n",
    "'| | | | | |'\n",
    "'| | |W| | |'\n",
    "'| | |A| | |'\n",
    "'| | |S| | |')\n",
    "show_path(graph_dfs(state))"
   ]
  },
  {
   "cell_type": "markdown",
   "metadata": {},
   "source": [
    "# BFS (Breadth-first search)"
   ]
  },
  {
   "cell_type": "code",
   "execution_count": 37,
   "metadata": {},
   "outputs": [
    {
     "name": "stdout",
     "output_type": "stream",
     "text": [
      "deque(['a', 'b', 'c', 'd'])\n",
      "deque(['b', 'c', 'd'])\n",
      "deque(['c', 'd'])\n"
     ]
    }
   ],
   "source": [
    "# Fronta = usporadana kolekce prvku, odebirame a pridavame na opacne\n",
    "# konce, jako u bezne fronty napr. v obchode.\n",
    "queue = deque(['a', 'b', 'c'])  # 'a' na zacatku fronty, 'c' na konci\n",
    "queue.append('d')  # 'd' prisel na konec fronty\n",
    "print(queue)  # deque(['a', 'b', 'c', 'd'])\n",
    "queue.popleft()  # odchazi 'a'\n",
    "print(queue)  # deque(['b', 'c', 'd'])\n",
    "queue.popleft()  # odchazi 'b'\n",
    "print(queue)  # deque(['c', 'd'])"
   ]
  },
  {
   "cell_type": "code",
   "execution_count": null,
   "metadata": {},
   "outputs": [],
   "source": [
    "# TODO: svet, ktery nejde optimalne resit pomoci DFS\n",
    "# (cervi diry nebo nestejna hloubka reseni)"
   ]
  },
  {
   "cell_type": "code",
   "execution_count": 83,
   "metadata": {
    "scrolled": false
   },
   "outputs": [
    {
     "name": "stdout",
     "output_type": "stream",
     "text": [
      "| | |3| | |\n",
      "| | | |2| |\n",
      "| | | | | |\n",
      "| | |W| | |\n",
      "| |1|A| | |\n",
      "| | |0| | |\n"
     ]
    }
   ],
   "source": [
    "def bfs(initial_state):\n",
    "    if initial_state.is_goal():\n",
    "        return [initial_state]\n",
    "    queue = deque([initial_state])\n",
    "    tree = {initial_state: None}  # maps states to their parents\n",
    "    while queue:\n",
    "        LOGGER.log_search_tree(tree)\n",
    "        state = queue.popleft()\n",
    "        for action in actions(state):\n",
    "            next_state = perform(state, action)\n",
    "            if (next_state in tree.keys()\n",
    "                or next_state in queue):\n",
    "                continue\n",
    "            queue.append(next_state)\n",
    "            tree[next_state] = state\n",
    "            # U BFS lze test na cilovy stav provadet uz zde.\n",
    "            if next_state.is_goal():\n",
    "                return reconstruct_path(tree, next_state)\n",
    "\n",
    "# LOGGER.debug(False)\n",
    "# state = parse_state(\n",
    "# '| | | | | |'\n",
    "# '| | | | | |'\n",
    "# '|A|A|A|A| |'\n",
    "# '| | | | | |'\n",
    "# '| | |S| | |')\n",
    "# show_path(bfs(state))\n",
    "LOGGER.debug(False)\n",
    "state = parse_state(\n",
    "'| | | | | |'\n",
    "'| | | |W| |'\n",
    "'| | | | | |'\n",
    "'| | |W| | |'\n",
    "'| | |A| | |'\n",
    "'| | |S| | |')\n",
    "show_path(bfs(state))"
   ]
  },
  {
   "cell_type": "markdown",
   "metadata": {},
   "source": [
    "# Uniform Cost Search (UCS) (Dijkstra)\n",
    "\n",
    "Přidání cen akcí -> DFS ani BFS nestačí.\n",
    "\n",
    "Příklad cen: let dopředu 2, let vlevo/vpravo 3."
   ]
  },
  {
   "cell_type": "code",
   "execution_count": 92,
   "metadata": {},
   "outputs": [
    {
     "data": {
      "text/plain": [
       "'b'"
      ]
     },
     "execution_count": 92,
     "metadata": {},
     "output_type": "execute_result"
    }
   ],
   "source": [
    "# # TODO: vysvetlit prioritni haldu\n",
    "# from heapq import heappush, heappop\n",
    "\n",
    "# queue = []\n",
    "# heappush(queue, (5, 'a'))  # Vkladame prvek 'a' s prioritou 5.\n",
    "# heappush(queue, (3, 'b'))  # Vkladame prvek 'b' s prioritou 3.\n",
    "# heappush(queue, (7, 'c'))  # Vkladame prvek 'c' s prioritou 7.\n",
    "# print(queue)  # [(3, 'b'), (5, 'a'), (7, 'c')]\n",
    "# print(heappop(queue)) # (3, 'b')\n",
    "# print(queue)  # [(5, 'a'), (7, 'c')]\n",
    "# print(heappop(queue)) # (5, 'a')\n",
    "# print(queue)  # [(7, 'c')]\n",
    "\n",
    "costs = {}\n",
    "costs['a'] = 5\n",
    "costs['b'] = 3\n",
    "costs['c'] = 7\n",
    "min(costs, key=lambda x: costs[x])"
   ]
  },
  {
   "cell_type": "code",
   "execution_count": 113,
   "metadata": {},
   "outputs": [
    {
     "name": "stdout",
     "output_type": "stream",
     "text": [
      "| | | | |4|\n",
      "| | | | |3|\n",
      "|A|A|A|A|2|\n",
      "| | | |1| |\n",
      "| | |0| | |\n"
     ]
    }
   ],
   "source": [
    "from math import inf\n",
    "ACTION_COSTS = {'l': 3, 'f': 2, 'r': 3}\n",
    "\n",
    "def ucs(initial_state):\n",
    "    # Ke kazdeme videnemu stavu ulozime jeho rodice.\n",
    "    tree = {initial_state: None}\n",
    "    # Do fronty ukladame dvojice (cena, stav).\n",
    "    #queue = [(0, initial_state)]\n",
    "    # Budeme zvlast ukladat vsechny ceny (i do jiz prozkoumanych\n",
    "    # vrcholu) a okraj (vrcholy k prozkoumani).\n",
    "    costs = {initial_state: 0}\n",
    "    fringe = {initial_state}\n",
    "    while fringe:\n",
    "        LOGGER.log_costs(costs)\n",
    "        #cost, state = heappop(queue)\n",
    "        state = min(fringe, key=lambda s: costs[s])\n",
    "        fringe.remove(state)\n",
    "        if state.is_goal():\n",
    "            return reconstruct_path(tree, state)\n",
    "        for action in actions(state):\n",
    "            next_state = perform(state, action)\n",
    "            new_cost = costs[state] + ACTION_COSTS[action]\n",
    "            old_cost = costs.get(next_state, inf)\n",
    "            if new_cost < old_cost:\n",
    "                fringe.add(next_state)\n",
    "                costs[next_state] = new_cost\n",
    "                tree[next_state] = state\n",
    "            \n",
    "LOGGER.debug(False)\n",
    "state = parse_state(\n",
    "'| | | | | |'\n",
    "'| | | | | |'\n",
    "'|A|A|A|A| |'\n",
    "'| | | | | |'\n",
    "'| | |S| | |')\n",
    "show_path(ucs(state))"
   ]
  },
  {
   "cell_type": "markdown",
   "metadata": {},
   "source": [
    "# A*\n",
    "\n",
    "Kombinace UCS a heuristiky.\n",
    "\n",
    "Příklad heuristiky: vertikální vzdálenost od cíle (komplikovanější heuristiky můžou brát v úvahu počet posbíraných diamantů).\n",
    "\n",
    "TODO: ukázat příklad, kdy UCS prohledává zbytečně moc (potřeba červích děr nebo diamantů) a jak to vyřešit pomocí jednoduché heuristiky"
   ]
  },
  {
   "cell_type": "code",
   "execution_count": 116,
   "metadata": {},
   "outputs": [],
   "source": [
    "def heuristic_distance(state):\n",
    "    return state.spaceship.row"
   ]
  },
  {
   "cell_type": "code",
   "execution_count": 118,
   "metadata": {},
   "outputs": [
    {
     "data": {
      "text/plain": [
       "3"
      ]
     },
     "execution_count": 118,
     "metadata": {},
     "output_type": "execute_result"
    }
   ],
   "source": [
    "heuristic_distance(parse_state(\n",
    "'| | | | | |'\n",
    "'| | | | | |'\n",
    "'|A|A|A|A| |'\n",
    "'| | |S| | |'\n",
    "'| | | | | |'))"
   ]
  },
  {
   "cell_type": "code",
   "execution_count": 117,
   "metadata": {},
   "outputs": [
    {
     "data": {
      "text/plain": [
       "0"
      ]
     },
     "execution_count": 117,
     "metadata": {},
     "output_type": "execute_result"
    }
   ],
   "source": [
    "heuristic_distance(parse_state(\n",
    "'| | |S| | |'\n",
    "'| | | | | |'\n",
    "'|A|A|A|A| |'\n",
    "'| | | | | |'\n",
    "'| | | | | |'))"
   ]
  },
  {
   "cell_type": "code",
   "execution_count": 127,
   "metadata": {},
   "outputs": [
    {
     "name": "stdout",
     "output_type": "stream",
     "text": [
      "| | | | |4|\n",
      "| | | | |3|\n",
      "|A|A|A|A|2|\n",
      "| | | |1| |\n",
      "| | |0| | |\n"
     ]
    }
   ],
   "source": [
    "# Jako UCS, lisi se jen vypoctem ceny.\n",
    "def a_star(initial_state, heuristic):\n",
    "    # Ke kazdeme videnemu stavu ulozime jeho rodice.\n",
    "    tree = {initial_state: None}\n",
    "    # Do fronty ukladame dvojice (cena, stav).\n",
    "    #queue = [(0, initial_state)]\n",
    "    # Budeme zvlast ukladat vsechny ceny (i do jiz prozkoumanych\n",
    "    # vrcholu) a okraj (vrcholy k prozkoumani).\n",
    "    costs = {initial_state: 0}\n",
    "    fringe = {initial_state}\n",
    "    while fringe:\n",
    "        LOGGER.log_costs(costs, heuristic)\n",
    "        #cost, state = heappop(queue)\n",
    "        # Jedina zmena oproti UCS:\n",
    "        state = min(fringe, key=lambda s: costs[s] + heuristic(s))\n",
    "        fringe.remove(state)\n",
    "        if state.is_goal():\n",
    "            return reconstruct_path(tree, state)\n",
    "        for action in actions(state):\n",
    "            next_state = perform(state, action)\n",
    "            new_cost = costs[state] + ACTION_COSTS[action]          \n",
    "            old_cost = costs.get(next_state, inf)\n",
    "            if new_cost < old_cost:\n",
    "                fringe.add(next_state)\n",
    "                costs[next_state] = new_cost\n",
    "                tree[next_state] = state\n",
    "            \n",
    "LOGGER.debug(False)\n",
    "state = parse_state(\n",
    "'| | | | | |'\n",
    "'| | | | | |'\n",
    "'|A|A|A|A| |'\n",
    "'| | | | | |'\n",
    "'| | |S| | |')\n",
    "show_path(a_star(state, heuristic=heuristic_distance))"
   ]
  },
  {
   "cell_type": "code",
   "execution_count": null,
   "metadata": {},
   "outputs": [],
   "source": []
  },
  {
   "cell_type": "markdown",
   "metadata": {},
   "source": [
    "## TODO\n",
    "\n",
    "- intro\n",
    "- DFS\n",
    "- DFS - explain tree search vs. graph search\n",
    "- nastroje pro pohodlne ladeni vsech algoritmu (vizualizace cesty i prubehu planovani (explored/frontier/unexplored states) -> umoznit vypisy (ala logger), vcetne textovych (-> muzu zkopirovat text stavu a vyzkouset si zacit z neho atp.)\n",
    "- DFS - recursive version\n",
    "- BFS (motivace: cervi diry - DFS nemusi najit nejkratsi cestu)\n",
    "- UCS\n",
    "- A\\*\n",
    "- refaktorovat (zprehlednit, zjednodusit, okomenotvat) kod\n",
    "- inline react component for visualizing states, paths (and ideally also allow to play the game... or at least provide a link to task-editor)\n",
    "- rezerva: greedy search, BF, DP, \"patnáctka\" (sliding tiles)\n",
    "- parsovani sveta (jako v JS)\n",
    "- vyfaktorovat pomocné funkce do samostatného .py modulu\n",
    "- hezčí vykreslování stavu (HTML tabulka, react components)\n",
    "- another notebook with stripped solutions\n",
    "- inspirace: Jak to vyresit, Programatorska cvicebnice, Sbirka do Navalu, KSI (napr. Honzovo bludiste, davna DFS/BFS videa), Ucadity AI, EdX AI lecture, google\n",
    "- testing by friends\n",
    "- utopicke: pridat jako dalsi level do RoboMise (s pripravenymi high-level bloky a/nebo v RoboKodu)"
   ]
  },
  {
   "cell_type": "markdown",
   "metadata": {},
   "source": [
    "## Rozšíření\n",
    "* protihráč -> minimax\n",
    "* náhoda, nejistota -> expectimax, MDP (value iteration - DP)\n",
    "* too many states (even infinitely many of them)\n",
    "* continuous actions\n",
    "* ...\n",
    "\n",
    "## Další zdroje\n",
    "* TBA: videa z AI kurzu na EdX"
   ]
  },
  {
   "cell_type": "code",
   "execution_count": null,
   "metadata": {},
   "outputs": [],
   "source": []
  },
  {
   "cell_type": "code",
   "execution_count": null,
   "metadata": {},
   "outputs": [],
   "source": []
  },
  {
   "cell_type": "code",
   "execution_count": null,
   "metadata": {},
   "outputs": [],
   "source": []
  }
 ],
 "metadata": {
  "kernelspec": {
   "display_name": "Python 3",
   "language": "python",
   "name": "python3"
  },
  "language_info": {
   "codemirror_mode": {
    "name": "ipython",
    "version": 3
   },
   "file_extension": ".py",
   "mimetype": "text/x-python",
   "name": "python",
   "nbconvert_exporter": "python",
   "pygments_lexer": "ipython3",
   "version": "3.6.4"
  }
 },
 "nbformat": 4,
 "nbformat_minor": 2
}
