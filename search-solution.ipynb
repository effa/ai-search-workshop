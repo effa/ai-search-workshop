{
 "cells": [
  {
   "cell_type": "markdown",
   "metadata": {},
   "source": [
    "# Plánování v umělé inteligenci\n",
    "(Základní techniky umělé inteligence)"
   ]
  },
  {
   "cell_type": "markdown",
   "metadata": {},
   "source": [
    "# Pomocné funkce\n",
    "\n",
    "TODO (až se už nebude implementace moc měnit): skrýt do pythoního modulu a pouze importovat potřebné funkce"
   ]
  },
  {
   "cell_type": "code",
   "execution_count": 10,
   "metadata": {},
   "outputs": [
    {
     "data": {
      "image/png": "[encoded data removed]",
      "text/plain": [
       "<matplotlib.figure.Figure at 0x7f79c5eddbe0>"
      ]
     },
     "execution_count": 10,
     "metadata": {},
     "output_type": "execute_result"
    }
   ],
   "source": [
    "# Pomocne funkce a tridy\n",
    "# TODO: vyfaktorovat do samostatneho modulu\n",
    "from collections import namedtuple, defaultdict, deque\n",
    "import matplotlib.pyplot as plt\n",
    "\n",
    "IMAGES = {\n",
    "    name: plt.imread('img/{name}.png'.format(name=name))\n",
    "    for name in ['spaceship', 'asteroid', 'background-blue-goal']}\n",
    "\n",
    "Position = namedtuple('Position', ['row', 'col'])\n",
    "\n",
    "\n",
    "class State:\n",
    "    def __init__(self, world):\n",
    "        # TODO: enforce immutability\n",
    "        # TODO: allow for state[position]\n",
    "        self.world = world\n",
    "        self.n = max(pos.row for pos in world) + 1\n",
    "        self.m = max(pos.col for pos in world) + 1\n",
    "        # finds spaceship\n",
    "        self.spaceship = None\n",
    "        for pos, field in world.items():\n",
    "            if field == 'S':\n",
    "                self.spaceship = pos\n",
    "                break\n",
    "        # cache wormholes\n",
    "        wormholes = defaultdict(list)\n",
    "        for pos, field in world.items():\n",
    "            if field in 'WXYZ':\n",
    "                wormholes[field].append(pos)\n",
    "        self.wormhole_positions = []\n",
    "        self.wormhole_end = {}\n",
    "        for letter, positions in wormholes.items():\n",
    "            if len(positions) != 2:\n",
    "                continue\n",
    "                #raise ValueError('Expects exectly 2 wormholes of given type.')\n",
    "            self.wormhole_positions.extend(positions)\n",
    "            self.wormhole_end[positions[0]] = positions[1]\n",
    "            self.wormhole_end[positions[1]] = positions[0]\n",
    "\n",
    "    def is_goal(self):\n",
    "        return self.spaceship.row == 0\n",
    "    \n",
    "    def show(self):\n",
    "        return create_spaceworld_fig(self)\n",
    "#         # TODO: use jupyter-display\n",
    "#         # hack to overcome bug with empty fields\n",
    "#         # and to color first row as blue\n",
    "#         first_row, rest = str(self).split('\\n', 1)\n",
    "#         first_row = first_row.replace('| ', '|b')\n",
    "#         # use regex..\n",
    "#         first_row = first_row.replace('|A', '|bA')\n",
    "#         first_row = first_row.replace('|W', '|bW')\n",
    "#         first_row = first_row.replace('|M', '|bM')\n",
    "#         first_row = first_row.replace('|D', '|bD')\n",
    "#         rest = rest.replace('| ', '|k')\n",
    "#         text = first_row + '\\n' + rest\n",
    "#         self.world_vis.set(text)\n",
    "        \n",
    "    def is_wormhole(self, position):\n",
    "        return position in self.wormhole_positions\n",
    "    \n",
    "    def get_wormhole_end(self, position):\n",
    "        return self.wormhole_end[position]\n",
    "        \n",
    "    def __str__(self):\n",
    "        # TODO: add __repr__ for debugging (State('''...''')\n",
    "        fields = [[\n",
    "            self.world[(Position(row, col))]\n",
    "            for col in range(self.m)]\n",
    "                for row in range(self.n)]\n",
    "        text = '\\n'.join('|{inside}|'.format(inside='|'.join(row)) for row in fields)\n",
    "        #text = text.replace(' ', '.')\n",
    "        return text\n",
    "\n",
    "    \n",
    "def create_spaceworld_fig(state):\n",
    "    width, height = state.n, state.m\n",
    "    fig, ax = plt.subplots(figsize=(width, height))\n",
    "    ax.set_xlim(0, width)\n",
    "    ax.set_ylim(0, height)\n",
    "    ax.grid(True)\n",
    "    ax.set_xticks(range(width+1))\n",
    "    ax.set_yticks(range(height+1))\n",
    "    ax.set_xticklabels([])\n",
    "    ax.set_yticklabels([])\n",
    "    ax.set_aspect('equal')\n",
    "    ax.patch.set_facecolor('black')   \n",
    "\n",
    "    def put_img(name, pos):\n",
    "        x = pos.col\n",
    "        y = height - pos.row - 1\n",
    "        ax.imshow(IMAGES[name], extent=[x, x+1, y, y+1])\n",
    "    \n",
    "    put_img('spaceship', state.spaceship)\n",
    "    for x in range(width):\n",
    "        ax.imshow(\n",
    "            IMAGES['background-blue-goal'],\n",
    "            extent=[x, x+1, height-1, height])\n",
    "    for pos, field in state.world.items():\n",
    "        if field == 'A':\n",
    "            put_img('asteroid', pos)            \n",
    "    return fig    \n",
    "\n",
    "\n",
    "def perform(state, action):\n",
    "    raise NotImplementedError('Use \"move\" instead of \"perform\"')\n",
    "    \n",
    "    \n",
    "def move(state, action):\n",
    "    # TODO: thow an error if the resulting state is dead (?)\n",
    "    # (or allow for representation of dead states)\n",
    "    world = state.world.copy()\n",
    "    spaceship = move_spaceship(state.spaceship, action)\n",
    "    if state.is_wormhole(spaceship):\n",
    "        spaceship = state.get_wormhole_end(spaceship)\n",
    "    world[state.spaceship] = ' '\n",
    "    world[spaceship] = 'S' \n",
    "    return State(world)\n",
    "\n",
    "def move_spaceship(spaceship, action):\n",
    "    dy = -1\n",
    "    dx = -1 if action == 'l' else 0 if action == 'f' else 1\n",
    "    new_spaceship = Position(\n",
    "        row=spaceship.row + dy,\n",
    "        col=spaceship.col + dx)\n",
    "    return new_spaceship    \n",
    "\n",
    "\n",
    "def actions(state):\n",
    "    \"\"\"Return actions that don't lead to dead state.\n",
    "    \"\"\"\n",
    "    return [\n",
    "        a for a in 'lfr'\n",
    "        if state.world.get(move_spaceship(state.spaceship, a), 'A') != 'A']     \n",
    "\n",
    "        \n",
    "def parse_state(text):\n",
    "    rows = text.strip().split('||')\n",
    "    fields = [row.strip('|').split('|') for row in rows]\n",
    "    world = {}\n",
    "    spaceship = None\n",
    "    for r, row in enumerate(fields):\n",
    "        for c, field in enumerate(row):\n",
    "            world[Position(r, c)] = field\n",
    "            if field == 'S':\n",
    "                spaceship = Position(r, c)\n",
    "    return State(world) \n",
    "        \n",
    "        \n",
    "def show_path(path):\n",
    "    # path = iterable of States\n",
    "    # Constructs a pseudo-state showing the path\n",
    "    world = path[0].world.copy()\n",
    "    for i, state in enumerate(path):\n",
    "        world[state.spaceship] = str(i)\n",
    "    print(State(world))\n",
    "    \n",
    "    \n",
    "def show_plan(state, plan):\n",
    "    # plan = iterable of action\n",
    "    # Constructs a pseudo-state showing the path\n",
    "    world = state.world.copy()\n",
    "    world[state.spaceship] = '0'\n",
    "    for i, action in enumerate(plan):\n",
    "        state = move(state, action)\n",
    "        world[state.spaceship] = str(i)\n",
    "    print(State(world))\n",
    "        \n",
    "        \n",
    "def is_goal(state):\n",
    "    # DISQ: Rozmyslet, zde je pro zacatecniky vhodnejsi\n",
    "    # methoda state.is_goal() nebo funkce is_goal(state).\n",
    "    return state.is_goal()\n",
    "\n",
    "\n",
    "state = parse_state(\n",
    "'| | | | | |'\n",
    "'| | | | | |'\n",
    "'|A|A|A|A| |'\n",
    "'| | | | | |'\n",
    "'| | |S| | |')\n",
    "#print(state)\n",
    "state.show()\n",
    "\n",
    "\n",
    "# state = parse_state(\n",
    "# '| | | | | |'\n",
    "# '| | | |W| |'\n",
    "# '|A|A|A|A| |'\n",
    "# '| | | | | |'\n",
    "# '| | |S| |W|')\n",
    "# print(state)\n",
    "# print(state.wormholes)\n",
    "# print(state.wormhole_end)\n",
    "\n",
    "\n",
    "# stav: pozice raketky (row, col)\n",
    "# (zbytek sveta je nemenny)\n",
    "\n",
    "# akce: 'l', 'f', 'r' (left, forward, right)\n",
    "#print(perform(perform(perform(state, 'r'), 'r'), 'l'))"
   ]
  },
  {
   "cell_type": "code",
   "execution_count": 3,
   "metadata": {
    "collapsed": true
   },
   "outputs": [],
   "source": [
    "# Tools for debugging\n",
    "class Logger:\n",
    "    def __init__(self):\n",
    "        self.output = True\n",
    "        \n",
    "    def debug(self, output=True):\n",
    "        self.output = output\n",
    "    \n",
    "    def log(self, message):\n",
    "        if self.output:\n",
    "            print(message)\n",
    "            print('-------')\n",
    "    \n",
    "    def log_search_tree(self, parents):\n",
    "        self.log(search_tree_as_state(parents))\n",
    "\n",
    "    def log_costs(self, costs, heuristic=None):\n",
    "        self.log(costs_as_state(costs, heuristic))\n",
    "        \n",
    "\n",
    "# def inverse_tree(parents):\n",
    "#     root = None\n",
    "#     children = defaultdict(list)\n",
    "#     for child, parent in parents.items():\n",
    "#         if parent is None:\n",
    "#             root = child\n",
    "#         else:\n",
    "#             children[parent].append(child)\n",
    "#     return root, children\n",
    "\n",
    "def get_root(parents):\n",
    "    for child, parent in parents.items():\n",
    "        if parent is None:\n",
    "            return child\n",
    "        \n",
    "def get_depth(node, parents):\n",
    "    depth = 0\n",
    "    while parents[node] is not None:\n",
    "        node = parents[node]\n",
    "        depth += 1\n",
    "    return depth\n",
    "\n",
    "def search_tree_as_state(parents):\n",
    "    #root, children = inverse_tree(parents)\n",
    "    root = get_root(parents)\n",
    "    world = root.world.copy()\n",
    "    for state in parents.keys():\n",
    "        depth = get_depth(state, parents)\n",
    "        world[state.spaceship] = str(depth)\n",
    "    return State(world)    \n",
    "    \n",
    "def show_search_tree(parents):\n",
    "    print(search_tree_as_state(parents))   \n",
    "\n",
    "def costs_as_state(costs, heuristic=None):\n",
    "    heuristic = heuristic or (lambda x: 0)\n",
    "    world = next(iter(costs.keys())).world.copy()\n",
    "    for state in costs.keys():\n",
    "        total_cost = costs[state] + heuristic(state)\n",
    "        world[state.spaceship] = str(total_cost)\n",
    "    return State(world)\n",
    "\n",
    "\n",
    "LOGGER = Logger()"
   ]
  },
  {
   "cell_type": "code",
   "execution_count": 4,
   "metadata": {
    "collapsed": true
   },
   "outputs": [],
   "source": [
    "# from IPython.display import SVG\n",
    "# svg=\"\"\"\n",
    "# <svg xmlns=\"http://www.w3.org/2000/svg\">\n",
    "#     <rect x=\"10\" y=\"10\" height=\"80\" width=\"80\" style=\"fill: #0000ff\"/>\n",
    "# </svg>\"\"\"\n",
    "# SVG(svg)"
   ]
  },
  {
   "cell_type": "code",
   "execution_count": 5,
   "metadata": {
    "collapsed": true
   },
   "outputs": [],
   "source": [
    "# import ipywidgets as widgets\n",
    "\n",
    "# w = widgets.IntSlider()\n",
    "# display(w)\n",
    "\n",
    "# file = open(\"img/spaceship.png\", \"rb\")\n",
    "# image = file.read()\n",
    "# items = [\n",
    "# widgets.Image(\n",
    "#     value=image,\n",
    "#     format='png',\n",
    "#     width=40,\n",
    "#     height=40,\n",
    "# ) for i in range(4)]\n",
    "# left_box = widgets.VBox([items[0], items[1]])\n",
    "# right_box = widgets.VBox([items[2], items[3]])\n",
    "# widgets.HBox([left_box, right_box])"
   ]
  },
  {
   "cell_type": "markdown",
   "metadata": {},
   "source": [
    "# Hledání cesty ve vesmíru\n",
    "\n",
    "TODO: popis problému a jeho komponent\n",
    "\n",
    "**Problém:**\n",
    "Hledáme cestu pro raketku ve vesmíru. Prostředí tvoří mřížka, některá políčka jsou zablokovaná asteroidy. Raketka začíná někde na spodním řádku a musí doletět do horního řádku."
   ]
  },
  {
   "cell_type": "code",
   "execution_count": 6,
   "metadata": {
    "collapsed": true
   },
   "outputs": [],
   "source": [
    "state = parse_state(\n",
    "'| | | | | |'\n",
    "'| | | | | |'\n",
    "'|A|A|A|A| |'\n",
    "'| | | | | |'\n",
    "'| | |S| | |')\n",
    "state.show()\n",
    "\n",
    "# TODO: todo improve state.show() to center the plan and insert\n",
    "# some vertical spacing"
   ]
  },
  {
   "cell_type": "markdown",
   "metadata": {},
   "source": [
    "**Akce:**\n",
    "Raketka letí stále vpřed a může přitom zatáčet doleva a doprava (dostoupné jsou tedy tři akce: 'l' jako 'left', 'f' jako 'forward', 'r' jako 'right'."
   ]
  },
  {
   "cell_type": "code",
   "execution_count": 7,
   "metadata": {},
   "outputs": [
    {
     "data": {
      "text/plain": [
       "['l', 'f', 'r']"
      ]
     },
     "execution_count": 7,
     "metadata": {},
     "output_type": "execute_result"
    }
   ],
   "source": [
    "# Funkce `actions` vraci akce dostupne v danem stavu.\n",
    "actions(state)"
   ]
  },
  {
   "cell_type": "code",
   "execution_count": 8,
   "metadata": {
    "collapsed": true
   },
   "outputs": [],
   "source": [
    "# Funkce `move(s, a)` vraci stav, ktery vznikne ze stavu s\n",
    "# po provedeni akce a:\n",
    "next_state = move(state, 'r')\n",
    "next_state.show()"
   ]
  },
  {
   "cell_type": "code",
   "execution_count": 9,
   "metadata": {},
   "outputs": [
    {
     "data": {
      "text/plain": [
       "['r']"
      ]
     },
     "execution_count": 9,
     "metadata": {},
     "output_type": "execute_result"
    }
   ],
   "source": [
    "# V nekterych stavech jsou dostupne pouze nektere akce:\n",
    "actions(next_state)"
   ]
  },
  {
   "cell_type": "markdown",
   "metadata": {},
   "source": [
    "**Stav:** kóduje to, co se světe mění při provádění akcí.\n",
    "V našem případě se mění pouze pozic raketky, stav je tedy dvojice (řádek, sloupec).\n",
    "\n",
    "TODO: rozmyslet, zatim se zda byt pohodlne do stavu schovat i nemennou cast sveta (prostredi).\n",
    "\n",
    "TODO: ilustrovat"
   ]
  },
  {
   "cell_type": "markdown",
   "metadata": {},
   "source": [
    "**Cílový stav** je takový stav, ve kterém se raketka nachází na horním řádku. Pro testování cílovosti stavu použijte funkci `is_goal(state)`."
   ]
  },
  {
   "cell_type": "code",
   "execution_count": 10,
   "metadata": {},
   "outputs": [
    {
     "data": {
      "text/plain": [
       "False"
      ]
     },
     "execution_count": 10,
     "metadata": {},
     "output_type": "execute_result"
    }
   ],
   "source": [
    "# Ukazka stavu, ktery neni cilovy.\n",
    "state = parse_state(\n",
    "'| | | | | |'\n",
    "'| | | | | |'\n",
    "'|A|A|A|A| |'\n",
    "'| | | | | |'\n",
    "'| | |S| | |')\n",
    "is_goal(state)"
   ]
  },
  {
   "cell_type": "code",
   "execution_count": 11,
   "metadata": {},
   "outputs": [
    {
     "data": {
      "text/plain": [
       "True"
      ]
     },
     "execution_count": 11,
     "metadata": {},
     "output_type": "execute_result"
    }
   ],
   "source": [
    "# Ukazka stavu, ktery je cilovy.\n",
    "state_b = parse_state(\n",
    "'| | | |S| |'\n",
    "'| | | | | |'\n",
    "'|A|A|A|A| |'\n",
    "'| | | | | |'\n",
    "'| | | | | |')\n",
    "is_goal(state_b)"
   ]
  },
  {
   "cell_type": "markdown",
   "metadata": {},
   "source": [
    "**Plán:** Řešením problému je posloupnost akcí, které musí raketka vykonat, aby se dostala do cíle.\n"
   ]
  },
  {
   "cell_type": "code",
   "execution_count": 12,
   "metadata": {
    "scrolled": false
   },
   "outputs": [
    {
     "name": "stdout",
     "output_type": "stream",
     "text": [
      "| | | |3| |\n",
      "| | | | |2|\n",
      "|A|A|A|A|1|\n",
      "| | | |0| |\n",
      "| | |0| | |\n"
     ]
    }
   ],
   "source": [
    "# TASK: zadat pouze castecny plan a nechat dopsat tak,\n",
    "# aby raketka doletela do cile\n",
    "plan = ['r', 'r', 'f', 'l']\n",
    "show_plan(state, plan)\n",
    "\n",
    "# TODO: implement show_plan\n",
    "# to show the world with the path draw as a line\n",
    "# + int-widget to show current state (= to animate the path)"
   ]
  },
  {
   "cell_type": "code",
   "execution_count": 13,
   "metadata": {},
   "outputs": [
    {
     "data": {
      "application/vnd.jupyter.widget-view+json": {
       "model_id": "0de26e26790e48c98264f2c2f77bf599",
       "version_major": 2,
       "version_minor": 0
      },
      "text/plain": [
       "A Jupyter Widget"
      ]
     },
     "metadata": {},
     "output_type": "display_data"
    },
    {
     "data": {
      "application/vnd.jupyter.widget-view+json": {
       "model_id": "318ac198e1384a8b8a3fbe556fd5c703",
       "version_major": 2,
       "version_minor": 0
      },
      "text/plain": [
       "A Jupyter Widget"
      ]
     },
     "metadata": {},
     "output_type": "display_data"
    }
   ],
   "source": [
    "import ipywidgets as widgets\n",
    "\n",
    "w = widgets.IntSlider()\n",
    "display(w)\n",
    "\n",
    "file = open(\"img/spaceship.png\", \"rb\")\n",
    "image = file.read()\n",
    "items = [\n",
    "widgets.Image(\n",
    "    value=image,\n",
    "    format='png',\n",
    "    width=40,\n",
    "    height=40,\n",
    ") for i in range(4)]\n",
    "left_box = widgets.VBox([items[0], items[1]])\n",
    "right_box = widgets.VBox([items[2], items[3]])\n",
    "widgets.HBox([left_box, right_box])"
   ]
  },
  {
   "cell_type": "code",
   "execution_count": 14,
   "metadata": {},
   "outputs": [
    {
     "data": {
      "application/vnd.jupyter.widget-view+json": {
       "model_id": "af2c1acfe5a94f2483fe65edd1120ff2",
       "version_major": 2,
       "version_minor": 0
      },
      "text/plain": [
       "A Jupyter Widget"
      ]
     },
     "metadata": {},
     "output_type": "display_data"
    },
    {
     "data": {
      "text/plain": [
       "<function __main__.show_plan_step>"
      ]
     },
     "execution_count": 14,
     "metadata": {},
     "output_type": "execute_result"
    }
   ],
   "source": [
    "# show_plan(state, plan)\n",
    "\n",
    "def show_plan_step(initial_state, plan, step):\n",
    "    return ''.join(plan) + str(step)\n",
    "\n",
    "plan = ['r', 'r', 'f', 'l']\n",
    "step = widgets.IntSlider(\n",
    "    min=0, max=len(plan),\n",
    "    value=0,\n",
    "    description='Krok')\n",
    "widgets.interact(\n",
    "    show_plan_step,\n",
    "    initial_state=widgets.fixed(state),\n",
    "    plan=widgets.fixed(plan),\n",
    "    step=step)"
   ]
  },
  {
   "cell_type": "code",
   "execution_count": 9,
   "metadata": {},
   "outputs": [
    {
     "data": {
      "image/png": "[encoded data removed]",
      "text/plain": [
       "<matplotlib.figure.Figure at 0x7f898d0f6908>"
      ]
     },
     "execution_count": 9,
     "metadata": {},
     "output_type": "execute_result"
    }
   ],
   "source": [
    "import matplotlib.pyplot as plt\n",
    "# with open('img/spaceship.png') as f:\n",
    "#     image = plt.imread(f)\n",
    "# fig, ax = plt.subplots()\n",
    "# ax.imshow(image)\n",
    "# ax.axis('off')  # clear x- and y-axes\n",
    "# plt.show()\n",
    "\n",
    "image = plt.imread('img/spaceship.png')\n",
    "fig, ax = plt.subplots()\n",
    "ax.imshow(image)\n",
    "ax.axis('off')\n",
    "fig"
   ]
  },
  {
   "cell_type": "code",
   "execution_count": 5,
   "metadata": {
    "collapsed": true
   },
   "outputs": [],
   "source": []
  },
  {
   "cell_type": "code",
   "execution_count": 10,
   "metadata": {},
   "outputs": [
    {
     "data": {
      "image/png": "[encoded data removed]",
      "text/plain": [
       "<matplotlib.figure.Figure at 0x7fb4493d1d68>"
      ]
     },
     "execution_count": 10,
     "metadata": {},
     "output_type": "execute_result"
    }
   ],
   "source": []
  },
  {
   "cell_type": "code",
   "execution_count": 30,
   "metadata": {
    "collapsed": true
   },
   "outputs": [],
   "source": [
    "# import bokeh\n",
    "# from bokeh.plotting import figure, show, output_file\n",
    "\n",
    "# p = figure(x_range=(0,1), y_range=(0,1))\n",
    "# p.image_url(url=['img/spaceship.png'], x=0, y=1, w=1, h=1)\n",
    "# show(p)"
   ]
  },
  {
   "cell_type": "code",
   "execution_count": null,
   "metadata": {
    "collapsed": true
   },
   "outputs": [],
   "source": []
  },
  {
   "cell_type": "code",
   "execution_count": null,
   "metadata": {
    "collapsed": true
   },
   "outputs": [],
   "source": []
  },
  {
   "cell_type": "markdown",
   "metadata": {},
   "source": [
    "**Cesta** je posloupnost stavů. Cestu můžeme dostat postupnou aplikací akcí na nějaký počáteční stav.\n",
    "\n",
    "TODO: Potrebujeme tento pojem? Pokud ne, tak vynechat. Pokud ano, tak ilustrovat."
   ]
  },
  {
   "cell_type": "markdown",
   "metadata": {},
   "source": [
    "### Problém hledání cesty - shrnutí\n",
    "\n",
    "Problém hledání cesty se skládá z těchto komponent:\n",
    "\n",
    "* počáteční stav,\n",
    "* funkce `actions(s)` vracející akce dostupné ve stavu *s*,\n",
    "* funkce `move(s, a)` vracející nový stav, který vznikne ze stavu *s* provedením akce *a*,\n",
    "* funkce `is_goal(s)` vracející *True* právě tehdy, když je *s* cílový stav.\n",
    "\n",
    "Pro vizualizaci stavu, plánu a prohledávacího stromu můžete použít připravené funkce:\n",
    "* `show_state(s)`\n",
    "* `show_plan(initial_state, plan)`\n",
    "* TODO: `show_search_tree` ??"
   ]
  },
  {
   "cell_type": "markdown",
   "metadata": {},
   "source": [
    "# Greedy Search (Hladové hledání)\n",
    "\n",
    "Na rozehřátí začneme značným zjednodušením: budeme předpokládat, že je v každém kroku bezpečné použít libovolnou z dostupných akcí, tj. že na mapě nejsou žádné \"slepé uličky\".\n",
    "\n",
    "V takovém případě je tvorba plánu jednoduchá: vybíráme jakoukoliv dostupnou akci, dokud se nedostaneme do cíle."
   ]
  },
  {
   "cell_type": "code",
   "execution_count": 87,
   "metadata": {},
   "outputs": [
    {
     "name": "stdout",
     "output_type": "stream",
     "text": [
      "|A|A|3|A|A|\n",
      "|A|A|2|A|A|\n",
      "|A|1|A|A|A|\n",
      "|A|A|0|A|A|\n",
      "|A|A|0|A|A|\n"
     ]
    }
   ],
   "source": [
    "# TASK: Implementujte funkci greedy_search(initial_state),\n",
    "# ktera vraci plan pro cestu z initial_state do cile.\n",
    "# Budete potrebovat funkce: actions(s), move(s, a), is_goal(s).\n",
    "# Prace se seznamem reprezentujicim plan akci:\n",
    "# 1. vytvoreni prazdneho planu: plan = []\n",
    "# 2. rozsireni planu o jednu akci: plan.append(action)\n",
    "\n",
    "def greedy_search(initial_state):\n",
    "    state = initial_state\n",
    "    plan = []\n",
    "    while not is_goal(state):\n",
    "        available_actions = actions(state)\n",
    "        if not available_actions:\n",
    "            break # Failed to find a path.\n",
    "        # Choose the first available action (greedy choice).\n",
    "        action = available_actions[0]\n",
    "        state = move(state, action)\n",
    "        plan.append(action)\n",
    "    # Return a complete or a partial path.\n",
    "    return plan\n",
    "\n",
    "state = parse_state(\n",
    "'|A|A| |A|A|'\n",
    "'|A|A| |A|A|'\n",
    "'|A| |A|A|A|'\n",
    "'|A|A| |A|A|'\n",
    "'|A|A|S|A|A|')\n",
    "plan = greedy_search(state)\n",
    "show_plan(state, plan)"
   ]
  },
  {
   "cell_type": "code",
   "execution_count": 88,
   "metadata": {},
   "outputs": [
    {
     "name": "stdout",
     "output_type": "stream",
     "text": [
      "|4| | | | |\n",
      "|A|3|A| |A|\n",
      "|2| | | | |\n",
      "|A|1|A| |A|\n",
      "| |0| | | |\n",
      "| | |0| | |\n"
     ]
    }
   ],
   "source": [
    "# Greedy search bude fungovat i v pripade hodne\n",
    "# ridce rozmistenych prekazek.\n",
    "state = parse_state(\n",
    "'| | | | | |'\n",
    "'|A| |A| |A|'\n",
    "'| | | | | |'\n",
    "'|A| |A| |A|'\n",
    "'| | | | | |'\n",
    "'| | |S| | |')\n",
    "plan = greedy_search(state)\n",
    "show_plan(state, plan)"
   ]
  },
  {
   "cell_type": "code",
   "execution_count": 89,
   "metadata": {},
   "outputs": [
    {
     "name": "stdout",
     "output_type": "stream",
     "text": [
      "| | | | | |\n",
      "|A|A| |A|A|\n",
      "|2| | | | |\n",
      "|1|A|A|A| |\n",
      "| |0| | | |\n",
      "| | |0| | |\n"
     ]
    }
   ],
   "source": [
    "# Obecne ale greedy search zadnou cestu do cile najit nemusi,\n",
    "# je mozne, ze se zasekne (ve \"slepe ulicce\").\n",
    "state = parse_state(\n",
    "'| | | | | |'\n",
    "'|A|A| |A|A|'\n",
    "'| | | | | |'\n",
    "'| |A|A|A| |'\n",
    "'| | | | | |'\n",
    "'| | |S| | |')\n",
    "plan = greedy_search(state)\n",
    "show_plan(state, plan)"
   ]
  },
  {
   "cell_type": "markdown",
   "metadata": {},
   "source": [
    "Poznámky:\n",
    "* Do hladového algoritmu lze snadno zakomponovat prefernci některých akcí (např. protože jsou některé akce levnější než jiné, nebo protože nás posunou blíže k cíli) - rozmyslete si jak (co by bylo potřeba v algoritmu upravit)."
   ]
  },
  {
   "cell_type": "markdown",
   "metadata": {},
   "source": [
    "# Prohledávání do hloubky (DFS)\n",
    "\n",
    "Obecně tedy nestačí uvažovat pouze jednu z dostupných akcí. Je možné že se při prohledávání budeme muset \"vrátit na rozcestí\" a vykonat nějakou jinou akci. Takovýto \"průchod s návratem\" lze reprezentovat pomocí tzv. *prohledávacího stromu* (anglicky *search tree*), ve kterém vrcholy reprezentují možné stavy a hrany akce, které převádějí jeden stav do druhého."
   ]
  },
  {
   "cell_type": "code",
   "execution_count": 93,
   "metadata": {},
   "outputs": [
    {
     "name": "stdout",
     "output_type": "stream",
     "text": [
      "| | | | | |\n",
      "| | | | | |\n",
      "|A|A|A|A|2|\n",
      "| |1|1|1| |\n",
      "| | |0| | |\n"
     ]
    }
   ],
   "source": [
    "# Ukazka prohledavaciho stromu. Nejprve si vytvorime nekolik stavu.\n",
    "s0 = parse_state(\n",
    "'| | | | | |'\n",
    "'| | | | | |'\n",
    "'|A|A|A|A| |'\n",
    "'| | | | | |'\n",
    "'| | |S| | |')\n",
    "s1 = move(s0, 'l')\n",
    "s2 = move(s0, 'f')\n",
    "s3 = move(s0, 'r')\n",
    "s4 = move(s3, 'r')\n",
    "# Strom pak zadefinujeme jako slovnik mapujici vrcholy (stavy)\n",
    "# na jejich predchudce. Koren stromu (pocacecni stavu) se \n",
    "# mapuje na None.\n",
    "tree = {\n",
    "    s0: None,\n",
    "    s1: s0,\n",
    "    s2: s0,\n",
    "    s3: s0,\n",
    "    s4: s3,\n",
    "}\n",
    "show_search_tree(tree)\n",
    "\n",
    "# TODO: Vylepsit show_search_tree (pekne obrazek s hranami)\n",
    "# a barevne odlisenymi typy vrcholu (explored vs. frontier)"
   ]
  },
  {
   "cell_type": "markdown",
   "metadata": {},
   "source": [
    "Během prohledávání budeme rozlišovat stavy, které jsme ještě neviděli, tj. nejsou ještě součástí prohledávacího stromu,\n",
    "a stavy,které jsme už potkali, tj. jsou součástní prohledávacího stromu.\n",
    "Tyto se hodí ještě dále rozdělit na jeho listy (TODO: zobrazené na obrázku nějakou barvou), tj. stavy na okraji (`frontier`),\n",
    "a vnitřní vrcholy (TODO: zobrazené nějakou jinou barvou), ty budeme považovat za prozkoumané (`explored`)."
   ]
  },
  {
   "cell_type": "code",
   "execution_count": 9,
   "metadata": {},
   "outputs": [
    {
     "name": "stdout",
     "output_type": "stream",
     "text": [
      "| | |4| | |\n",
      "| | | |3| |\n",
      "|A|A|A|A|2|\n",
      "| | | |1| |\n",
      "| | |0| | |\n"
     ]
    }
   ],
   "source": [
    "# Tree-DFS pomoci rekurze (nehlida zacykleni)\n",
    "def dfs(state):\n",
    "    \"\"\"Return path from state to a goal state\"\"\"\n",
    "    #print('---\\nstate:\\n' + str(state))\n",
    "    #input()\n",
    "    if state.is_goal():\n",
    "        return [state]\n",
    "    for action in actions(state):      \n",
    "        next_state = perform(state, action)\n",
    "        path = dfs(next_state)\n",
    "        if path:\n",
    "            return [state] + path\n",
    "    return None  # no path found\n",
    "\n",
    "state = parse_state(\n",
    "'| | | | | |'\n",
    "'| | | | | |'\n",
    "'|A|A|A|A| |'\n",
    "'| | | | | |'\n",
    "'| | |S| | |')\n",
    "show_path(dfs(state))"
   ]
  },
  {
   "cell_type": "code",
   "execution_count": 25,
   "metadata": {},
   "outputs": [
    {
     "name": "stdout",
     "output_type": "stream",
     "text": [
      "| | |4| | |\n",
      "| | | |3| |\n",
      "|A|A|A|A|2|\n",
      "| | | |1| |\n",
      "| | |0| | |\n"
     ]
    }
   ],
   "source": [
    "# Rekurzivni graph-dfs (hlidajici zacykleni)\n",
    "def recursive_graph_dfs(start_state):\n",
    "    explored = set()\n",
    "    def dfs(state):\n",
    "        explored.add(state)\n",
    "        if state.is_goal():\n",
    "            return [state]\n",
    "        for action in actions(state):      \n",
    "            next_state = perform(state, action)\n",
    "            if next_state in explored:\n",
    "                continue\n",
    "            path = dfs(next_state)\n",
    "            if path:\n",
    "                return [state] + path\n",
    "        return None  # no path found\n",
    "    return dfs(start_state)\n",
    "\n",
    "state = parse_state(\n",
    "'| | | | | |'\n",
    "'| | | | | |'\n",
    "'|A|A|A|A| |'\n",
    "'| | | | | |'\n",
    "'| | |S| | |')\n",
    "show_path(recursive_graph_dfs(state))"
   ]
  },
  {
   "cell_type": "code",
   "execution_count": 10,
   "metadata": {},
   "outputs": [
    {
     "name": "stdout",
     "output_type": "stream",
     "text": [
      "['a', 'b', 'c', 'd']\n",
      "['a', 'b', 'c']\n",
      "['a', 'b']\n"
     ]
    }
   ],
   "source": [
    "# Zasobnik = pridavame a odebirame ze stejneho konce,\n",
    "# napr. stos knih, naskladane talire.\n",
    "stack = ['a', 'b', 'c']  # vrchol zasobniku je vpravo ('c')\n",
    "stack.append('d')  # pridani 'd' na vrchol zasobniku\n",
    "print(stack)  # ['a', 'b', 'c', 'd']\n",
    "stack.pop()  # odebrani prvku 'd' z vrcholu zasobniku\n",
    "print(stack)  # ['a', 'b', 'c']\n",
    "stack.pop()  # odebrani prvku 'c' z vrcholu zasobniku\n",
    "print(stack)  # ['a', 'b']"
   ]
  },
  {
   "cell_type": "code",
   "execution_count": 11,
   "metadata": {},
   "outputs": [
    {
     "name": "stdout",
     "output_type": "stream",
     "text": [
      "| | | | |4|\n",
      "| | | | |3|\n",
      "|A|A|A|A|2|\n",
      "| | | |1| |\n",
      "| | |0| | |\n"
     ]
    }
   ],
   "source": [
    "# Terminology: tree vs. parents?\n",
    "def reconstruct_path(tree, state):\n",
    "    reversed_path = []\n",
    "    while state is not None:\n",
    "        reversed_path.append(state)\n",
    "        state = tree[state]\n",
    "    path = list(reversed(reversed_path))\n",
    "    return path\n",
    "\n",
    "    \n",
    "# tree search - bez kontroly zacykleni\n",
    "def iterative_dfs(initial_state):\n",
    "    stack = [initial_state]\n",
    "    tree = {initial_state: None}  # maps nodes to their parents\n",
    "    while stack:\n",
    "        LOGGER.log_search_tree(tree)\n",
    "        state = stack.pop()\n",
    "        if state.is_goal():\n",
    "            return reconstruct_path(tree, state)\n",
    "        for action in actions(state):\n",
    "            next_state = perform(state, action)\n",
    "            stack.append(next_state)\n",
    "            tree[next_state] = state\n",
    "            \n",
    "\n",
    "LOGGER.debug(False)\n",
    "state = parse_state(\n",
    "'| | | | | |'\n",
    "'| | | | | |'\n",
    "'|A|A|A|A| |'\n",
    "'| | | | | |'\n",
    "'| | |S| | |')\n",
    "show_path(iterative_dfs(state))"
   ]
  },
  {
   "cell_type": "code",
   "execution_count": 32,
   "metadata": {
    "scrolled": false
   },
   "outputs": [
    {
     "name": "stdout",
     "output_type": "stream",
     "text": [
      "| | |4| | |\n",
      "| | | |3| |\n",
      "|A|A|A|A|2|\n",
      "| | | |1| |\n",
      "| | |0| | |\n"
     ]
    }
   ],
   "source": [
    "# graph search - bez duplicitnich vypoctu a moznosti zacykleni\n",
    "\n",
    "# TODO: potreba motivovat prikladem (zacykleni by potrebovalo\n",
    "# cervi diry, ale redundantni vypocty lze i bez toho)\n",
    "\n",
    "# Nasledujici algoritmus neprochazi vrcholy v korektnim DFS poradi,\n",
    "# protoze pridava do zasobniku vsechny zkoumaneho stavu najednou\n",
    "# a nikdy podruhe (pro zachovani liearni velikosti zasobniku).\n",
    "# Pri hledani cesty k cilovemu stavu to nicemu nevadi, ale je\n",
    "# dobre vedet, ze to neni presne DFS a pro nektere jine aplikace\n",
    "# (napr. detekce orientovanych cyklu) by byl kod potreba upravit.\n",
    "def graph_dfs(initial_state):\n",
    "    stack = [initial_state]\n",
    "    # tree - mapuje stavy na jejich rodice\n",
    "    # v tomto pripade ukladame vrcholy do stromu\n",
    "    # uz pri jejich videni \n",
    "    tree = { initial_state: None }\n",
    "    while stack:\n",
    "        state = stack.pop()\n",
    "        LOGGER.log_search_tree(tree)\n",
    "        if state.is_goal():\n",
    "            return reconstruct_path(tree, state)\n",
    "        for action in reversed(actions(state)):\n",
    "            next_state = perform(state, action)\n",
    "            # Vrcholy ukladame do stromu uz pri jejich videni.\n",
    "            # To nam umozni linearni velikost zasobniku\n",
    "            # (kazdy vrchol tam bude nejvyse jednou.)\n",
    "            if next_state not in tree:  # uz jsme ho videli\n",
    "                tree[next_state] = state\n",
    "                stack.append(next_state)\n",
    "\n",
    "LOGGER.debug(False)\n",
    "state = parse_state(\n",
    "'| | | | | |'\n",
    "'| | | | | |'\n",
    "'|A|A|A|A| |'\n",
    "'| | | | | |'\n",
    "'| | |S| | |')\n",
    "show_path(graph_dfs(state))            "
   ]
  },
  {
   "cell_type": "markdown",
   "metadata": {},
   "source": [
    "Co DFS nezvladne: pokud nejsou reseni ve stejne hloubce (a pritom chceme najit optimalni cestu). Priklad s cervimi dirami:"
   ]
  },
  {
   "cell_type": "code",
   "execution_count": 13,
   "metadata": {},
   "outputs": [
    {
     "name": "stdout",
     "output_type": "stream",
     "text": [
      "| | | | |5|\n",
      "| | | |W|4|\n",
      "| | | | |3|\n",
      "| | |W| |2|\n",
      "| | |A|1| |\n",
      "| | |0| | |\n"
     ]
    }
   ],
   "source": [
    "LOGGER.debug(False)\n",
    "state = parse_state(\n",
    "'| | | | | |'\n",
    "'| | | |W| |'\n",
    "'| | | | | |'\n",
    "'| | |W| | |'\n",
    "'| | |A| | |'\n",
    "'| | |S| | |')\n",
    "show_path(graph_dfs(state))"
   ]
  },
  {
   "cell_type": "markdown",
   "metadata": {},
   "source": [
    "# BFS (Breadth-first search)"
   ]
  },
  {
   "cell_type": "code",
   "execution_count": 14,
   "metadata": {},
   "outputs": [
    {
     "name": "stdout",
     "output_type": "stream",
     "text": [
      "deque(['a', 'b', 'c', 'd'])\n",
      "deque(['b', 'c', 'd'])\n",
      "deque(['c', 'd'])\n"
     ]
    }
   ],
   "source": [
    "# Fronta = usporadana kolekce prvku, odebirame a pridavame na opacne\n",
    "# konce, jako u bezne fronty napr. v obchode.\n",
    "queue = deque(['a', 'b', 'c'])  # 'a' na zacatku fronty, 'c' na konci\n",
    "queue.append('d')  # 'd' prisel na konec fronty\n",
    "print(queue)  # deque(['a', 'b', 'c', 'd'])\n",
    "queue.popleft()  # odchazi 'a'\n",
    "print(queue)  # deque(['b', 'c', 'd'])\n",
    "queue.popleft()  # odchazi 'b'\n",
    "print(queue)  # deque(['c', 'd'])"
   ]
  },
  {
   "cell_type": "code",
   "execution_count": 15,
   "metadata": {
    "collapsed": true
   },
   "outputs": [],
   "source": [
    "# TODO: svet, ktery nejde optimalne resit pomoci DFS\n",
    "# (cervi diry nebo nestejna hloubka reseni)"
   ]
  },
  {
   "cell_type": "code",
   "execution_count": 16,
   "metadata": {
    "scrolled": false
   },
   "outputs": [
    {
     "name": "stdout",
     "output_type": "stream",
     "text": [
      "| | |3| | |\n",
      "| | | |2| |\n",
      "| | | | | |\n",
      "| | |W| | |\n",
      "| |1|A| | |\n",
      "| | |0| | |\n"
     ]
    }
   ],
   "source": [
    "def bfs(initial_state):\n",
    "    if initial_state.is_goal():\n",
    "        return [initial_state]\n",
    "    queue = deque([initial_state])\n",
    "    tree = {initial_state: None}  # maps states to their parents\n",
    "    while queue:\n",
    "        LOGGER.log_search_tree(tree)\n",
    "        state = queue.popleft()\n",
    "        for action in actions(state):\n",
    "            next_state = perform(state, action)\n",
    "            if (next_state in tree.keys()\n",
    "                or next_state in queue):\n",
    "                continue\n",
    "            queue.append(next_state)\n",
    "            tree[next_state] = state\n",
    "            # U BFS lze test na cilovy stav provadet uz zde.\n",
    "            if next_state.is_goal():\n",
    "                return reconstruct_path(tree, next_state)\n",
    "\n",
    "# LOGGER.debug(False)\n",
    "# state = parse_state(\n",
    "# '| | | | | |'\n",
    "# '| | | | | |'\n",
    "# '|A|A|A|A| |'\n",
    "# '| | | | | |'\n",
    "# '| | |S| | |')\n",
    "# show_path(bfs(state))\n",
    "LOGGER.debug(False)\n",
    "state = parse_state(\n",
    "'| | | | | |'\n",
    "'| | | |W| |'\n",
    "'| | | | | |'\n",
    "'| | |W| | |'\n",
    "'| | |A| | |'\n",
    "'| | |S| | |')\n",
    "show_path(bfs(state))"
   ]
  },
  {
   "cell_type": "markdown",
   "metadata": {},
   "source": [
    "# Uniform Cost Search (UCS) (Dijkstra)\n",
    "\n",
    "Přidání cen akcí -> DFS ani BFS nestačí.\n",
    "\n",
    "Příklad cen: let dopředu 2, let vlevo/vpravo 3.\n",
    "(nebo lze pridat strileni s vyssi cenou)"
   ]
  },
  {
   "cell_type": "code",
   "execution_count": 17,
   "metadata": {},
   "outputs": [
    {
     "data": {
      "text/plain": [
       "'b'"
      ]
     },
     "execution_count": 17,
     "metadata": {},
     "output_type": "execute_result"
    }
   ],
   "source": [
    "# # TODO: vysvetlit prioritni haldu\n",
    "# from heapq import heappush, heappop\n",
    "\n",
    "# queue = []\n",
    "# heappush(queue, (5, 'a'))  # Vkladame prvek 'a' s prioritou 5.\n",
    "# heappush(queue, (3, 'b'))  # Vkladame prvek 'b' s prioritou 3.\n",
    "# heappush(queue, (7, 'c'))  # Vkladame prvek 'c' s prioritou 7.\n",
    "# print(queue)  # [(3, 'b'), (5, 'a'), (7, 'c')]\n",
    "# print(heappop(queue)) # (3, 'b')\n",
    "# print(queue)  # [(5, 'a'), (7, 'c')]\n",
    "# print(heappop(queue)) # (5, 'a')\n",
    "# print(queue)  # [(7, 'c')]\n",
    "\n",
    "costs = {}\n",
    "costs['a'] = 5\n",
    "costs['b'] = 3\n",
    "costs['c'] = 7\n",
    "min(costs, key=lambda x: costs[x])"
   ]
  },
  {
   "cell_type": "code",
   "execution_count": 18,
   "metadata": {},
   "outputs": [
    {
     "name": "stdout",
     "output_type": "stream",
     "text": [
      "| | | | |4|\n",
      "| | | | |3|\n",
      "|A|A|A|A|2|\n",
      "| | | |1| |\n",
      "| | |0| | |\n"
     ]
    }
   ],
   "source": [
    "from math import inf\n",
    "ACTION_COSTS = {'l': 3, 'f': 2, 'r': 3}\n",
    "\n",
    "def ucs(initial_state):\n",
    "    # Ke kazdeme videnemu stavu ulozime jeho rodice.\n",
    "    tree = {initial_state: None}\n",
    "    # Do fronty ukladame dvojice (cena, stav).\n",
    "    #queue = [(0, initial_state)]\n",
    "    # Budeme zvlast ukladat vsechny ceny (i do jiz prozkoumanych\n",
    "    # vrcholu) a okraj (vrcholy k prozkoumani).\n",
    "    costs = {initial_state: 0}\n",
    "    fringe = {initial_state}\n",
    "    while fringe:\n",
    "        LOGGER.log_costs(costs)\n",
    "        #cost, state = heappop(queue)\n",
    "        state = min(fringe, key=lambda s: costs[s])\n",
    "        fringe.remove(state)\n",
    "        if state.is_goal():\n",
    "            return reconstruct_path(tree, state)\n",
    "        for action in actions(state):\n",
    "            next_state = perform(state, action)\n",
    "            new_cost = costs[state] + ACTION_COSTS[action]\n",
    "            old_cost = costs.get(next_state, inf)\n",
    "            if new_cost < old_cost:\n",
    "                fringe.add(next_state)\n",
    "                costs[next_state] = new_cost\n",
    "                tree[next_state] = state\n",
    "            \n",
    "LOGGER.debug(False)\n",
    "state = parse_state(\n",
    "'| | | | | |'\n",
    "'| | | | | |'\n",
    "'|A|A|A|A| |'\n",
    "'| | | | | |'\n",
    "'| | |S| | |')\n",
    "show_path(ucs(state))"
   ]
  },
  {
   "cell_type": "markdown",
   "metadata": {},
   "source": [
    "# A*\n",
    "\n",
    "Kombinace UCS a heuristiky.\n",
    "\n",
    "Příklad heuristiky: vertikální vzdálenost od cíle (komplikovanější heuristiky můžou brát v úvahu počet posbíraných diamantů).\n",
    "\n",
    "TODO: ukázat příklad, kdy UCS prohledává zbytečně moc (potřeba červích děr nebo diamantů) a jak to vyřešit pomocí jednoduché heuristiky"
   ]
  },
  {
   "cell_type": "code",
   "execution_count": 19,
   "metadata": {
    "collapsed": true
   },
   "outputs": [],
   "source": [
    "def heuristic_distance(state):\n",
    "    return state.spaceship.row"
   ]
  },
  {
   "cell_type": "code",
   "execution_count": 20,
   "metadata": {},
   "outputs": [
    {
     "data": {
      "text/plain": [
       "3"
      ]
     },
     "execution_count": 20,
     "metadata": {},
     "output_type": "execute_result"
    }
   ],
   "source": [
    "heuristic_distance(parse_state(\n",
    "'| | | | | |'\n",
    "'| | | | | |'\n",
    "'|A|A|A|A| |'\n",
    "'| | |S| | |'\n",
    "'| | | | | |'))"
   ]
  },
  {
   "cell_type": "code",
   "execution_count": 21,
   "metadata": {},
   "outputs": [
    {
     "data": {
      "text/plain": [
       "0"
      ]
     },
     "execution_count": 21,
     "metadata": {},
     "output_type": "execute_result"
    }
   ],
   "source": [
    "heuristic_distance(parse_state(\n",
    "'| | |S| | |'\n",
    "'| | | | | |'\n",
    "'|A|A|A|A| |'\n",
    "'| | | | | |'\n",
    "'| | | | | |'))"
   ]
  },
  {
   "cell_type": "code",
   "execution_count": 22,
   "metadata": {},
   "outputs": [
    {
     "name": "stdout",
     "output_type": "stream",
     "text": [
      "| | | | |4|\n",
      "| | | | |3|\n",
      "|A|A|A|A|2|\n",
      "| | | |1| |\n",
      "| | |0| | |\n"
     ]
    }
   ],
   "source": [
    "# Jako UCS, lisi se jen vypoctem ceny.\n",
    "def a_star(initial_state, heuristic):\n",
    "    # Ke kazdeme videnemu stavu ulozime jeho rodice.\n",
    "    tree = {initial_state: None}\n",
    "    # Do fronty ukladame dvojice (cena, stav).\n",
    "    #queue = [(0, initial_state)]\n",
    "    # Budeme zvlast ukladat vsechny ceny (i do jiz prozkoumanych\n",
    "    # vrcholu) a okraj (vrcholy k prozkoumani).\n",
    "    costs = {initial_state: 0}\n",
    "    fringe = {initial_state}\n",
    "    while fringe:\n",
    "        LOGGER.log_costs(costs, heuristic)\n",
    "        #cost, state = heappop(queue)\n",
    "        # Jedina zmena oproti UCS:\n",
    "        state = min(fringe, key=lambda s: costs[s] + heuristic(s))\n",
    "        fringe.remove(state)\n",
    "        if state.is_goal():\n",
    "            return reconstruct_path(tree, state)\n",
    "        for action in actions(state):\n",
    "            next_state = perform(state, action)\n",
    "            new_cost = costs[state] + ACTION_COSTS[action]          \n",
    "            old_cost = costs.get(next_state, inf)\n",
    "            if new_cost < old_cost:\n",
    "                fringe.add(next_state)\n",
    "                costs[next_state] = new_cost\n",
    "                tree[next_state] = state\n",
    "            \n",
    "LOGGER.debug(False)\n",
    "state = parse_state(\n",
    "'| | | | | |'\n",
    "'| | | | | |'\n",
    "'|A|A|A|A| |'\n",
    "'| | | | | |'\n",
    "'| | |S| | |')\n",
    "show_path(a_star(state, heuristic=heuristic_distance))"
   ]
  },
  {
   "cell_type": "code",
   "execution_count": null,
   "metadata": {
    "collapsed": true
   },
   "outputs": [],
   "source": []
  },
  {
   "cell_type": "markdown",
   "metadata": {},
   "source": [
    "## TODO\n",
    "\n",
    "- intro\n",
    "- DFS\n",
    "- DFS - explain tree search vs. graph search\n",
    "- nastroje pro pohodlne ladeni vsech algoritmu (vizualizace cesty i prubehu planovani (explored/frontier/unexplored states) -> umoznit vypisy (ala logger), vcetne textovych (-> muzu zkopirovat text stavu a vyzkouset si zacit z neho atp.)\n",
    "- DFS - recursive version\n",
    "- BFS (motivace: cervi diry - DFS nemusi najit nejkratsi cestu)\n",
    "- UCS\n",
    "- A\\*\n",
    "- refaktorovat (zprehlednit, zjednodusit, okomenotvat) kod\n",
    "- inline react component for visualizing states, paths (and ideally also allow to play the game... or at least provide a link to task-editor)\n",
    "- rezerva: greedy search, BF, DP, \"patnáctka\" (sliding tiles)\n",
    "- parsovani sveta (jako v JS)\n",
    "- vyfaktorovat pomocné funkce do samostatného .py modulu\n",
    "- hezčí vykreslování stavu (HTML tabulka, react components)\n",
    "- another notebook with stripped solutions\n",
    "- inspirace: Jak to vyresit, Programatorska cvicebnice, Sbirka do Navalu, KSI (napr. Honzovo bludiste, davna DFS/BFS videa), Ucadity AI, EdX AI lecture, google\n",
    "- testing by friends\n",
    "- utopicke: pridat jako dalsi level do RoboMise (s pripravenymi high-level bloky a/nebo v RoboKodu)"
   ]
  },
  {
   "cell_type": "markdown",
   "metadata": {},
   "source": [
    "## Rozšíření\n",
    "* protihráč -> minimax\n",
    "* náhoda, nejistota -> expectimax, MDP (value iteration - DP)\n",
    "* too many states (even infinitely many of them)\n",
    "* continuous actions\n",
    "* ...\n",
    "\n",
    "## Další zdroje\n",
    "* TBA: videa z AI kurzu na EdX"
   ]
  },
  {
   "cell_type": "code",
   "execution_count": null,
   "metadata": {
    "collapsed": true
   },
   "outputs": [],
   "source": []
  },
  {
   "cell_type": "code",
   "execution_count": null,
   "metadata": {
    "collapsed": true
   },
   "outputs": [],
   "source": []
  },
  {
   "cell_type": "code",
   "execution_count": null,
   "metadata": {
    "collapsed": true
   },
   "outputs": [],
   "source": []
  }
 ],
 "metadata": {
  "kernelspec": {
   "display_name": "Python 3",
   "language": "python",
   "name": "python3"
  },
  "language_info": {
   "codemirror_mode": {
    "name": "ipython",
    "version": 3
   },
   "file_extension": ".py",
   "mimetype": "text/x-python",
   "name": "python",
   "nbconvert_exporter": "python",
   "pygments_lexer": "ipython3",
   "version": "3.6.3"
  }
 },
 "nbformat": 4,
 "nbformat_minor": 2
}
