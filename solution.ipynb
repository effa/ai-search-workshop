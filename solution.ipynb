{
 "cells": [
  {
   "cell_type": "markdown",
   "metadata": {},
   "source": [
    "# Plánování v umělé inteligenci\n",
    "\n",
    "TODO: intro (osnova) + motivace (AI - nejen na mape, ale napr. v hrach, ...), programatorske ulohy na soutezich typu InterLoS a na pohovorech do IT firem)\n",
    "\n",
    "---"
   ]
  },
  {
   "cell_type": "markdown",
   "metadata": {},
   "source": [
    "## Práce s jupyter notebookem\n",
    "\n",
    "Obsah buňky spustíte stisknutím `Shift + Enter`.\n",
    "Po provedení se vypíše výsledek příkazu na posledním řádku\n",
    "a označí se buňka následující.\n",
    "Zkuste si to:"
   ]
  },
  {
   "cell_type": "code",
   "execution_count": 1,
   "metadata": {
    "scrolled": true
   },
   "outputs": [
    {
     "data": {
      "text/plain": [
       "'spaceship'"
      ]
     },
     "execution_count": 1,
     "metadata": {},
     "output_type": "execute_result"
    }
   ],
   "source": [
    "items = ['spaceship', 'asteroid', 'wormhole']\n",
    "items[0]"
   ]
  },
  {
   "cell_type": "markdown",
   "metadata": {},
   "source": [
    "Pro zobrazení palety dostupných příkazů zmáčkněnte `Ctrl + Shift + P`.\n",
    "Najděte klávesovou zkratku pro spuštění buňky bez přesunu na následující buňku (*run selected cells*), abyste mohli opakovaně spouštět jednu buňku, například následující:"
   ]
  },
  {
   "cell_type": "code",
   "execution_count": 2,
   "metadata": {},
   "outputs": [
    {
     "data": {
      "text/plain": [
       "['spaceship', 'asteroid', 'wormhole', 'meteoroid']"
      ]
     },
     "execution_count": 2,
     "metadata": {},
     "output_type": "execute_result"
    }
   ],
   "source": [
    "items.append('meteoroid')\n",
    "items"
   ]
  },
  {
   "cell_type": "markdown",
   "metadata": {},
   "source": [
    "Pro našeptávání použijte `Tab`.\n",
    "Například všechny metody na seznamu *items* zobrazíte pomocí `items.<Tab>`. Zkuste si to:"
   ]
  },
  {
   "cell_type": "code",
   "execution_count": null,
   "metadata": {},
   "outputs": [],
   "source": []
  },
  {
   "cell_type": "markdown",
   "metadata": {},
   "source": [
    "Pro popis libovolné funkce či metody napište její název, přidejte otazník a buňku spusťe. Zkuste si to:"
   ]
  },
  {
   "cell_type": "code",
   "execution_count": 3,
   "metadata": {},
   "outputs": [],
   "source": [
    "items.pop?"
   ]
  },
  {
   "cell_type": "markdown",
   "metadata": {},
   "source": [
    "Co se tedy stane po provedení `items.pop()`?\n",
    "Domněnku si můžete snadno ověřit:"
   ]
  },
  {
   "cell_type": "code",
   "execution_count": 4,
   "metadata": {},
   "outputs": [
    {
     "data": {
      "text/plain": [
       "'wormhole'"
      ]
     },
     "execution_count": 4,
     "metadata": {},
     "output_type": "execute_result"
    }
   ],
   "source": [
    "items = ['spaceship', 'asteroid', 'wormhole']\n",
    "items.pop()"
   ]
  },
  {
   "cell_type": "code",
   "execution_count": 5,
   "metadata": {},
   "outputs": [
    {
     "data": {
      "text/plain": [
       "['spaceship', 'asteroid']"
      ]
     },
     "execution_count": 5,
     "metadata": {},
     "output_type": "execute_result"
    }
   ],
   "source": [
    "items"
   ]
  },
  {
   "cell_type": "markdown",
   "metadata": {},
   "source": [
    "## Nastavení a import funkcí"
   ]
  },
  {
   "cell_type": "code",
   "execution_count": 2,
   "metadata": {},
   "outputs": [],
   "source": [
    "%matplotlib inline\n",
    "\n",
    "from search import parse_state, is_goal, actions, move\n",
    "from search import show_plan, visualize_search, log_search_step"
   ]
  },
  {
   "cell_type": "markdown",
   "metadata": {},
   "source": [
    "# Hledání cesty ve vesmíru\n",
    "\n",
    "\n",
    "**Problém:**\n",
    "Hledáme plán pro raketku ve vesmíru,\n",
    "podle kterého raketka doletí do cíle,\n",
    "aniž by po cestě narazila do asteroidu.\n",
    "\n",
    "**Stav:**\n",
    "Prostředí tvoří mřížka, některá políčka jsou zablokovaná asteroidy. Raketka začíná někde na spodním řádku a musí doletět do horního řádku."
   ]
  },
  {
   "cell_type": "code",
   "execution_count": 3,
   "metadata": {},
   "outputs": [
    {
     "data": {
      "text/plain": [
       "State(2,0)"
      ]
     },
     "execution_count": 3,
     "metadata": {},
     "output_type": "execute_result"
    },
    {
     "data": {
      "image/png": "[encoded data removed]",
      "text/plain": [
       "<matplotlib.figure.Figure at 0x7fadbffa8828>"
      ]
     },
     "metadata": {},
     "output_type": "display_data"
    }
   ],
   "source": [
    "state = parse_state(\n",
    "'| | | | | |'\n",
    "'| | | | | |'\n",
    "'|A|A|A|A| |'   # A = asteroid\n",
    "'| | | | | |'\n",
    "'| | |S| | |')  # S = spaceship\n",
    "state"
   ]
  },
  {
   "cell_type": "markdown",
   "metadata": {},
   "source": [
    "**Cílový stav** je takový stav, ve kterém se raketka nachází na horním řádku. Pro testování cílovosti stavu použijte funkci `is_goal(state)`."
   ]
  },
  {
   "cell_type": "code",
   "execution_count": 4,
   "metadata": {},
   "outputs": [
    {
     "data": {
      "text/plain": [
       "False"
      ]
     },
     "execution_count": 4,
     "metadata": {},
     "output_type": "execute_result"
    }
   ],
   "source": [
    "# Ukazka stavu, ktery neni cilovy.\n",
    "state = parse_state(\n",
    "'| | | | | |'\n",
    "'| | | | | |'\n",
    "'|A|A|A|A| |'\n",
    "'| | | | | |'\n",
    "'| | |S| | |')\n",
    "is_goal(state)"
   ]
  },
  {
   "cell_type": "code",
   "execution_count": 5,
   "metadata": {},
   "outputs": [
    {
     "data": {
      "text/plain": [
       "True"
      ]
     },
     "execution_count": 5,
     "metadata": {},
     "output_type": "execute_result"
    }
   ],
   "source": [
    "# Ukazka stavu, ktery je cilovy.\n",
    "state_b = parse_state(\n",
    "'| | | |S| |'\n",
    "'| | | | | |'\n",
    "'|A|A|A|A| |'\n",
    "'| | | | | |'\n",
    "'| | | | | |')\n",
    "is_goal(state_b)"
   ]
  },
  {
   "cell_type": "markdown",
   "metadata": {},
   "source": [
    "**Akce:**\n",
    "Raketka letí stále vpřed a může přitom zatáčet doleva a doprava (dostoupné jsou tedy tři akce: 'l' jako 'left', 'f' jako 'forward', 'r' jako 'right'.\n",
    "\n",
    "Funkce `actions` vrací seznam akcí dostupných v daném stavu:"
   ]
  },
  {
   "cell_type": "code",
   "execution_count": 6,
   "metadata": {},
   "outputs": [
    {
     "data": {
      "text/plain": [
       "['l', 'f', 'r']"
      ]
     },
     "execution_count": 6,
     "metadata": {},
     "output_type": "execute_result"
    }
   ],
   "source": [
    "actions(state)"
   ]
  },
  {
   "cell_type": "markdown",
   "metadata": {},
   "source": [
    "Funkce `move(s, a)` vrací stav, který vznikne ze stavu *s* po provedení akce *a*:"
   ]
  },
  {
   "cell_type": "code",
   "execution_count": 7,
   "metadata": {
    "scrolled": true
   },
   "outputs": [
    {
     "data": {
      "text/plain": [
       "State(3,1)"
      ]
     },
     "execution_count": 7,
     "metadata": {},
     "output_type": "execute_result"
    },
    {
     "data": {
      "image/png": "[encoded data removed]",
      "text/plain": [
       "<matplotlib.figure.Figure at 0x7fadbfc7f278>"
      ]
     },
     "metadata": {},
     "output_type": "display_data"
    }
   ],
   "source": [
    "next_state = move(state, 'r')\n",
    "next_state"
   ]
  },
  {
   "cell_type": "markdown",
   "metadata": {},
   "source": [
    "Všimněte si, že raketka se při akci `r` posunula nejen o 1 pole doprava, ale současně i o 1 pole vpřed (tj. raketka letí stále vpřed).\n",
    "\n",
    "V některých stavech nejsou dostupné všechny tři akce, ale jen některé:"
   ]
  },
  {
   "cell_type": "code",
   "execution_count": 8,
   "metadata": {},
   "outputs": [
    {
     "data": {
      "text/plain": [
       "['r']"
      ]
     },
     "execution_count": 8,
     "metadata": {},
     "output_type": "execute_result"
    }
   ],
   "source": [
    "actions(next_state)"
   ]
  },
  {
   "cell_type": "markdown",
   "metadata": {},
   "source": [
    "**Plán:** Řešením problému je posloupnost akcí, které musí raketka vykonat, aby se dostala do cíle. Příklad plánu je řetězec `\"ffl\"` (rovně, rovně, doleva).\n"
   ]
  },
  {
   "cell_type": "markdown",
   "metadata": {},
   "source": [
    "<div class=\"alert alert-block alert-success\">\n",
    "**Úkol 1: Dokončení plánu**<br/>\n",
    "Upravte plán (proměnná *plan*) tak, aby raketka doletěla do cíle. \n",
    "</div>"
   ]
  },
  {
   "cell_type": "code",
   "execution_count": 9,
   "metadata": {
    "scrolled": false
   },
   "outputs": [
    {
     "data": {
      "image/png": "[encoded data removed]",
      "text/plain": [
       "<matplotlib.figure.Figure at 0x7fadb9abfe48>"
      ]
     },
     "metadata": {},
     "output_type": "display_data"
    }
   ],
   "source": [
    "plan = 'rr'  # upravte tento plan\n",
    "# SOLUTION: plan = 'rrff'\n",
    "show_plan(state, plan, interactive=False)"
   ]
  },
  {
   "cell_type": "markdown",
   "metadata": {},
   "source": [
    "<div class=\"alert alert-block alert-info\">\n",
    "**Shrnutí problému plánování**<br/>\n",
    "<hr>\n",
    "\n",
    "<p>\n",
    "Problém plánování se skládá ze 4 částí:\n",
    "<ul>\n",
    "<li>počáteční stav,</li>\n",
    "<li>funkce `actions(s)` vracející akce dostupné ve stavu *s*,</li>\n",
    "<li>funkce `move(s, a)` vracející nový stav, který vznikne z *s* provedením *a*,</li>\n",
    "<li>funkce `is_goal(s)` vracející *True* právě tehdy, když je *s* cílový stav.</li>\n",
    "</ul>\n",
    "</p>\n",
    "\n",
    "Řešením problému je plán, čili posloupnost akcí, která dovede raketku z počátečního stavu do cílového. Pro vizualizaci plánu můžete použít funkci \n",
    "`show_plan(initial_state, plan)`.\n",
    "</div>"
   ]
  },
  {
   "cell_type": "markdown",
   "metadata": {},
   "source": [
    "# Hladové hledání (Greedy Search)\n",
    "\n",
    "Na rozehřátí začneme zjednodušením: budeme předpokládat, že je v každém kroku bezpečné použít libovolnou z dostupných akcí, tj. že na mapě nejsou žádné \"slepé uličky\".\n",
    "\n",
    "V takovém případě je tvorba plánu jednoduchá: vybíráme jakoukoliv dostupnou akci, dokud se nedostaneme do cíle."
   ]
  },
  {
   "cell_type": "markdown",
   "metadata": {},
   "source": [
    "<div class=\"alert alert-block alert-success\">\n",
    "**Úkol 2: Hladové hledání**<br/>\n",
    "Implementujte funkci *greedy_search(initial_state)*,\n",
    "která vrací hladově vytvořený plán pro cestu z *initial_state*\n",
    "do cílového stavu.\n",
    "Pokud hladová tvorba plánu selže (v některém stavu už nebude dostupná žádná akce), vraťte částečný plán.\n",
    "\n",
    "<p>\n",
    "Budete potřebovat:\n",
    "<ul>\n",
    "<li>funkce *actions(s)*, *move(s, a)*, *is_goal(s)*,</li>\n",
    "<li>vytvoření prázdného plánu: `plan = ''`,</li>\n",
    "<li>rozšíření plánu o jednu akci: `plan += action`.</li>\n",
    "</ul>\n",
    "</p>\n",
    "</div>"
   ]
  },
  {
   "cell_type": "code",
   "execution_count": 10,
   "metadata": {},
   "outputs": [
    {
     "data": {
      "image/png": "[encoded data removed]",
      "text/plain": [
       "<matplotlib.figure.Figure at 0x7fadbfc7fcc0>"
      ]
     },
     "metadata": {},
     "output_type": "display_data"
    }
   ],
   "source": [
    "def greedy_search(initial_state):\n",
    "    plan = []\n",
    "    # TODO: Implementovat hladove vyhledavani.    \n",
    "    # Vracime uplny nebo castecny plan.\n",
    "    return plan\n",
    "\n",
    "# SOLUTION:\n",
    "def greedy_search(initial_state):\n",
    "    state = initial_state\n",
    "    plan = ''\n",
    "    while not is_goal(state):\n",
    "        available_actions = actions(state)\n",
    "        if not available_actions:\n",
    "            break # Failed to find a path.\n",
    "        # Choose the first available action (greedy choice).\n",
    "        action = available_actions[0]\n",
    "        state = move(state, action)\n",
    "        plan += action\n",
    "    # Return a complete or a partial path.\n",
    "    return plan\n",
    "\n",
    "state = parse_state(\n",
    "'|A|A| |A|A|'\n",
    "'|A|A| |A|A|'\n",
    "'|A| |A|A|A|'\n",
    "'|A|A| |A|A|'\n",
    "'|A|A|S|A|A|')\n",
    "plan = greedy_search(state)\n",
    "show_plan(state, plan, interactive=False)"
   ]
  },
  {
   "cell_type": "markdown",
   "metadata": {},
   "source": [
    "Vyzkoušejte váš algoritmus i na jiných mapách. Hladové plánování bude dobře fungovat například na mapách s řídce rozmístěnými překážkami."
   ]
  },
  {
   "cell_type": "code",
   "execution_count": 11,
   "metadata": {
    "scrolled": false
   },
   "outputs": [
    {
     "data": {
      "image/png": "[encoded data removed]",
      "text/plain": [
       "<matplotlib.figure.Figure at 0x7fadb6531e48>"
      ]
     },
     "metadata": {},
     "output_type": "display_data"
    }
   ],
   "source": [
    "state = parse_state(\n",
    "'| | | | | |'\n",
    "'|A| |A| |A|'\n",
    "'| | | | | |'\n",
    "'|A| |A| |A|'\n",
    "'| | | | | |'\n",
    "'| | |S| | |')\n",
    "plan = greedy_search(state)\n",
    "show_plan(state, plan, interactive=False)"
   ]
  },
  {
   "cell_type": "markdown",
   "metadata": {},
   "source": [
    "<div class=\"alert alert-block alert-success\">\n",
    "**Úkol 3: Hladové selhání**<br/>\n",
    "Hladové plánování je rychlé a jednoduché,\n",
    "nefunguje však ve všech situacích.\n",
    "Vytvořte plán, ve kterém váš hladový algoritmus cestu do cíle nenajde,\n",
    "protože skončí ve \"slepé uličce\".\n",
    "</div>"
   ]
  },
  {
   "cell_type": "code",
   "execution_count": 12,
   "metadata": {},
   "outputs": [
    {
     "data": {
      "image/png": "[encoded data removed]",
      "text/plain": [
       "<matplotlib.figure.Figure at 0x7fadb2fb72e8>"
      ]
     },
     "metadata": {},
     "output_type": "display_data"
    }
   ],
   "source": [
    "# Upravte tento plan:\n",
    "state = parse_state(\n",
    "'| | | | | |'\n",
    "'|A| | | |A|'\n",
    "'| | | | | |'\n",
    "'| | |A| | |'\n",
    "'| | | | | |'\n",
    "'| | |S| | |')\n",
    "\n",
    "# SOLUTION:\n",
    "state = parse_state(\n",
    "'| | | | | |'\n",
    "'|A|A| |A|A|'\n",
    "'| | | | | |'\n",
    "'| |A|A|A| |'\n",
    "'| | | | | |'\n",
    "'| | |S| | |')\n",
    "\n",
    "plan = greedy_search(state)\n",
    "show_plan(state, plan, interactive=False)"
   ]
  },
  {
   "cell_type": "markdown",
   "metadata": {},
   "source": [
    "<div class=\"alert alert-block alert-info\">\n",
    "**Shrnutí hladového plánování**<br/>\n",
    "<hr>\n",
    "\n",
    "<p>\n",
    "Princip hladového hledání je volit v každém stavu první dostupnou akci.\n",
    "Do hladového algoritmu lze snadno zakomponovat preferenci některých akcí (např. protože jsou některé akce levnější než jiné, nebo protože nás posunou blíže k cíli).\n",
    "Hladové hledání je rychlé a jednoduché, nemusí však vždy najít řešení.\n",
    "</p>\n",
    "</div>"
   ]
  },
  {
   "cell_type": "markdown",
   "metadata": {},
   "source": [
    "# Stromové prohledávání (tree search)\n",
    "\n",
    "Obecně tedy nestačí uvažovat pouze jednu z dostupných akcí. Je možné že se při prohledávání budeme muset \"vrátit na rozcestí\" a vykonat nějakou jinou akci. Takovýto \"průchod s návratem\" lze reprezentovat pomocí tzv. *prohledávacího stromu* (anglicky *search tree*), ve kterém vrcholy reprezentují možné stavy a orientované hrany reprezentují akce, které převádějí jeden stav do druhého."
   ]
  },
  {
   "cell_type": "code",
   "execution_count": 13,
   "metadata": {},
   "outputs": [
    {
     "data": {
      "image/png": "[encoded data removed]",
      "text/plain": [
       "<matplotlib.figure.Figure at 0x7fadafa6aeb8>"
      ]
     },
     "metadata": {},
     "output_type": "display_data"
    }
   ],
   "source": [
    "# Ukazka prohledavaciho stromu. Nejprve si vytvorime nekolik stavu.\n",
    "s0 = parse_state(\n",
    "'| | | | | |'\n",
    "'| | | | | |'\n",
    "'|A|A|A|A| |'\n",
    "'| | | | | |'\n",
    "'| | |S| | |')\n",
    "s1 = move(s0, 'l')\n",
    "s2 = move(s0, 'f')\n",
    "s3 = move(s0, 'r')\n",
    "s4 = move(s3, 'r')\n",
    "\n",
    "with visualize_search(s0, interactive=False):\n",
    "    log_search_step(explored_state=s0, fringe={s1, s2, s3})\n",
    "    log_search_step(explored_state=s3, fringe={s1, s2, s4})"
   ]
  },
  {
   "cell_type": "markdown",
   "metadata": {},
   "source": [
    "Stavy, které jsme již viděli (tj. jsou součástní prohledávácího stromu) se hodí rozdělit do dvou skupin podle toho, zda jsme už do stromu zařadili jejich následníky (zda jsme je \"expandovali\"):\n",
    "* *prozkoumané* (*explored*) - expandované (zobrazené modře),\n",
    "* stavy na *okraji* (*fringe*) - neexpandované (zobrazené červeně)."
   ]
  },
  {
   "cell_type": "markdown",
   "metadata": {},
   "source": [
    "TODO: high-level popis stromoveho prohledavani slovy (v odrazkach), vyuziti vizualizace vyse"
   ]
  },
  {
   "cell_type": "markdown",
   "metadata": {},
   "source": [
    "<div class=\"alert alert-block alert-success\">\n",
    "**Úkol 4: Schéma stromového prohledávání**<br/>\n",
    "Prostudujte si následující schéma stromového prohledávání,\n",
    "odkrokujte si ho, prodiskutujte ve dvojici\n",
    "(TODO: co přesně diskutovat, jaké otázky zodpovědět,\n",
    "např. vliv okraje, tj. strategie pro výběr stavu k prozkoumání; časová a paměťová složitost)\n",
    "(TODO: zadat nějakou úpravu kódu?)\n",
    "</div>"
   ]
  },
  {
   "cell_type": "code",
   "execution_count": 23,
   "metadata": {},
   "outputs": [
    {
     "data": {
      "application/vnd.jupyter.widget-view+json": {
       "model_id": "98ea6e6c0a3e4ab89f297cdf98649151",
       "version_major": 2,
       "version_minor": 0
      },
      "text/html": [
       "<p>Failed to display Jupyter Widget of type <code>interactive</code>.</p>\n",
       "<p>\n",
       "  If you're reading this message in the Jupyter Notebook or JupyterLab Notebook, it may mean\n",
       "  that the widgets JavaScript is still loading. If this message persists, it\n",
       "  likely means that the widgets JavaScript library is either not installed or\n",
       "  not enabled. See the <a href=\"https://ipywidgets.readthedocs.io/en/stable/user_install.html\">Jupyter\n",
       "  Widgets Documentation</a> for setup instructions.\n",
       "</p>\n",
       "<p>\n",
       "  If you're reading this message in another frontend (for example, a static\n",
       "  rendering on GitHub or <a href=\"https://nbviewer.jupyter.org/\">NBViewer</a>),\n",
       "  it may mean that your frontend doesn't currently support widgets.\n",
       "</p>\n"
      ],
      "text/plain": [
       "interactive(children=(IntSlider(value=10, description='Krok', max=10), Output()), _dom_classes=('widget-interact',))"
      ]
     },
     "metadata": {},
     "output_type": "display_data"
    },
    {
     "data": {
      "image/png": "[encoded data removed]",
      "text/plain": [
       "<matplotlib.figure.Figure at 0x7fadbd009d30>"
      ]
     },
     "metadata": {},
     "output_type": "display_data"
    }
   ],
   "source": [
    "# Obecne schema stromoveho prohledavani.\n",
    "# Je parametrizovane typem okraje (Fringe), ktery\n",
    "# popisuje strategii pro vyber stavu k prozkoumani.\n",
    "def tree_search(initial_state, Fringe):\n",
    "    # UPDATE: Do okraje ukladame dvojice (stav, plan), kde plan popisuje,\n",
    "    # jak se dostat do uvedeneho stavu z pocatecniho stavu.\n",
    "    fringe = Fringe([initial_state])\n",
    "    plans = {initial_state: ''}\n",
    "    while fringe:\n",
    "        # Vyber jednoho stavu z okraje.\n",
    "        state = fringe.pop()\n",
    "        # Pokud je tento stav cilovy, muzeme prohledavani ukoncit.\n",
    "        if is_goal(state):\n",
    "            log_search_step(state, fringe)\n",
    "            return plans[state]\n",
    "        # Pokud neni, expandujeme tento stav, tj. pridame na okraj\n",
    "        # vsechny jeho nasledniky.\n",
    "        for action in actions(state):\n",
    "            next_state = move(state, action)\n",
    "            plans[next_state] = plans[state] + action\n",
    "            fringe.add(next_state)\n",
    "        log_search_step(state, fringe)\n",
    "\n",
    "\n",
    "state = parse_state(\n",
    "'|A|A| | | |'\n",
    "'| |A|A| | |'\n",
    "'| | |A|A| |'\n",
    "'| | | | | |'\n",
    "'| | |S| | |')\n",
    "with visualize_search(state, interactive=True):\n",
    "    # Jako okraj muzeme pouzit napriklad mnozinu.\n",
    "    plan = tree_search(state, Fringe=set)\n",
    "show_plan(state, plan)"
   ]
  },
  {
   "cell_type": "markdown",
   "metadata": {},
   "source": [
    "# Prohledávání do hloubky (DFS)"
   ]
  },
  {
   "cell_type": "markdown",
   "metadata": {},
   "source": [
    "Motivace: pro konkrétní volby okraje, lze algoritmus trochu zjednodušit + získá nějaké pěkné vlastnosti (garance). Množina použítá výše nic moc. Lepší je zásobník (vysvětlit) -> úkol: implementovat DFS: inspirujte se obecným schématem výše, kód bude podobný, jen trochu jednodušší."
   ]
  },
  {
   "cell_type": "code",
   "execution_count": 9,
   "metadata": {},
   "outputs": [
    {
     "name": "stdout",
     "output_type": "stream",
     "text": [
      "| | |4| | |\n",
      "| | | |3| |\n",
      "|A|A|A|A|2|\n",
      "| | | |1| |\n",
      "| | |0| | |\n"
     ]
    }
   ],
   "source": [
    "# Tree-DFS pomoci rekurze (nehlida zacykleni)\n",
    "def dfs(state):\n",
    "    \"\"\"Return path from state to a goal state\"\"\"\n",
    "    #print('---\\nstate:\\n' + str(state))\n",
    "    #input()\n",
    "    if state.is_goal():\n",
    "        return [state]\n",
    "    for action in actions(state):      \n",
    "        next_state = perform(state, action)\n",
    "        path = dfs(next_state)\n",
    "        if path:\n",
    "            return [state] + path\n",
    "    return None  # no path found\n",
    "\n",
    "state = parse_state(\n",
    "'| | | | | |'\n",
    "'| | | | | |'\n",
    "'|A|A|A|A| |'\n",
    "'| | | | | |'\n",
    "'| | |S| | |')\n",
    "show_path(dfs(state))"
   ]
  },
  {
   "cell_type": "code",
   "execution_count": 25,
   "metadata": {},
   "outputs": [
    {
     "name": "stdout",
     "output_type": "stream",
     "text": [
      "| | |4| | |\n",
      "| | | |3| |\n",
      "|A|A|A|A|2|\n",
      "| | | |1| |\n",
      "| | |0| | |\n"
     ]
    }
   ],
   "source": [
    "# Rekurzivni graph-dfs (hlidajici zacykleni)\n",
    "def recursive_graph_dfs(start_state):\n",
    "    explored = set()\n",
    "    def dfs(state):\n",
    "        explored.add(state)\n",
    "        if state.is_goal():\n",
    "            return [state]\n",
    "        for action in actions(state):      \n",
    "            next_state = perform(state, action)\n",
    "            if next_state in explored:\n",
    "                continue\n",
    "            path = dfs(next_state)\n",
    "            if path:\n",
    "                return [state] + path\n",
    "        return None  # no path found\n",
    "    return dfs(start_state)\n",
    "\n",
    "state = parse_state(\n",
    "'| | | | | |'\n",
    "'| | | | | |'\n",
    "'|A|A|A|A| |'\n",
    "'| | | | | |'\n",
    "'| | |S| | |')\n",
    "show_path(recursive_graph_dfs(state))"
   ]
  },
  {
   "cell_type": "code",
   "execution_count": 10,
   "metadata": {},
   "outputs": [
    {
     "name": "stdout",
     "output_type": "stream",
     "text": [
      "['a', 'b', 'c', 'd']\n",
      "['a', 'b', 'c']\n",
      "['a', 'b']\n"
     ]
    }
   ],
   "source": [
    "# Zasobnik = pridavame a odebirame ze stejneho konce,\n",
    "# napr. stos knih, naskladane talire.\n",
    "stack = ['a', 'b', 'c']  # vrchol zasobniku je vpravo ('c')\n",
    "stack.append('d')  # pridani 'd' na vrchol zasobniku\n",
    "print(stack)  # ['a', 'b', 'c', 'd']\n",
    "stack.pop()  # odebrani prvku 'd' z vrcholu zasobniku\n",
    "print(stack)  # ['a', 'b', 'c']\n",
    "stack.pop()  # odebrani prvku 'c' z vrcholu zasobniku\n",
    "print(stack)  # ['a', 'b']"
   ]
  },
  {
   "cell_type": "code",
   "execution_count": 11,
   "metadata": {},
   "outputs": [
    {
     "name": "stdout",
     "output_type": "stream",
     "text": [
      "| | | | |4|\n",
      "| | | | |3|\n",
      "|A|A|A|A|2|\n",
      "| | | |1| |\n",
      "| | |0| | |\n"
     ]
    }
   ],
   "source": [
    "# Terminology: tree vs. parents?\n",
    "def reconstruct_path(tree, state):\n",
    "    reversed_path = []\n",
    "    while state is not None:\n",
    "        reversed_path.append(state)\n",
    "        state = tree[state]\n",
    "    path = list(reversed(reversed_path))\n",
    "    return path\n",
    "\n",
    "    \n",
    "# tree search - bez kontroly zacykleni\n",
    "def iterative_dfs(initial_state):\n",
    "    stack = [initial_state]\n",
    "    tree = {initial_state: None}  # maps nodes to their parents\n",
    "    while stack:\n",
    "        LOGGER.log_search_tree(tree)\n",
    "        state = stack.pop()\n",
    "        if state.is_goal():\n",
    "            return reconstruct_path(tree, state)\n",
    "        for action in actions(state):\n",
    "            next_state = perform(state, action)\n",
    "            stack.append(next_state)\n",
    "            tree[next_state] = state\n",
    "            \n",
    "\n",
    "LOGGER.debug(False)\n",
    "state = parse_state(\n",
    "'| | | | | |'\n",
    "'| | | | | |'\n",
    "'|A|A|A|A| |'\n",
    "'| | | | | |'\n",
    "'| | |S| | |')\n",
    "show_path(iterative_dfs(state))"
   ]
  },
  {
   "cell_type": "code",
   "execution_count": 32,
   "metadata": {
    "scrolled": false
   },
   "outputs": [
    {
     "name": "stdout",
     "output_type": "stream",
     "text": [
      "| | |4| | |\n",
      "| | | |3| |\n",
      "|A|A|A|A|2|\n",
      "| | | |1| |\n",
      "| | |0| | |\n"
     ]
    }
   ],
   "source": [
    "# graph search - bez duplicitnich vypoctu a moznosti zacykleni\n",
    "\n",
    "# TODO: potreba motivovat prikladem (zacykleni by potrebovalo\n",
    "# cervi diry, ale redundantni vypocty lze i bez toho)\n",
    "\n",
    "# Nasledujici algoritmus neprochazi vrcholy v korektnim DFS poradi,\n",
    "# protoze pridava do zasobniku vsechny zkoumaneho stavu najednou\n",
    "# a nikdy podruhe (pro zachovani liearni velikosti zasobniku).\n",
    "# Pri hledani cesty k cilovemu stavu to nicemu nevadi, ale je\n",
    "# dobre vedet, ze to neni presne DFS a pro nektere jine aplikace\n",
    "# (napr. detekce orientovanych cyklu) by byl kod potreba upravit.\n",
    "def graph_dfs(initial_state):\n",
    "    stack = [initial_state]\n",
    "    # tree - mapuje stavy na jejich rodice\n",
    "    # v tomto pripade ukladame vrcholy do stromu\n",
    "    # uz pri jejich videni \n",
    "    tree = { initial_state: None }\n",
    "    while stack:\n",
    "        state = stack.pop()\n",
    "        LOGGER.log_search_tree(tree)\n",
    "        if state.is_goal():\n",
    "            return reconstruct_path(tree, state)\n",
    "        for action in reversed(actions(state)):\n",
    "            next_state = perform(state, action)\n",
    "            # Vrcholy ukladame do stromu uz pri jejich videni.\n",
    "            # To nam umozni linearni velikost zasobniku\n",
    "            # (kazdy vrchol tam bude nejvyse jednou.)\n",
    "            if next_state not in tree:  # uz jsme ho videli\n",
    "                tree[next_state] = state\n",
    "                stack.append(next_state)\n",
    "\n",
    "LOGGER.debug(False)\n",
    "state = parse_state(\n",
    "'| | | | | |'\n",
    "'| | | | | |'\n",
    "'|A|A|A|A| |'\n",
    "'| | | | | |'\n",
    "'| | |S| | |')\n",
    "show_path(graph_dfs(state))            "
   ]
  },
  {
   "cell_type": "markdown",
   "metadata": {},
   "source": [
    "Co DFS nezvladne: pokud nejsou reseni ve stejne hloubce (a pritom chceme najit optimalni cestu). Priklad s cervimi dirami:"
   ]
  },
  {
   "cell_type": "code",
   "execution_count": 13,
   "metadata": {},
   "outputs": [
    {
     "name": "stdout",
     "output_type": "stream",
     "text": [
      "| | | | |5|\n",
      "| | | |W|4|\n",
      "| | | | |3|\n",
      "| | |W| |2|\n",
      "| | |A|1| |\n",
      "| | |0| | |\n"
     ]
    }
   ],
   "source": [
    "LOGGER.debug(False)\n",
    "state = parse_state(\n",
    "'| | | | | |'\n",
    "'| | | |W| |'\n",
    "'| | | | | |'\n",
    "'| | |W| | |'\n",
    "'| | |A| | |'\n",
    "'| | |S| | |')\n",
    "show_path(graph_dfs(state))"
   ]
  },
  {
   "cell_type": "markdown",
   "metadata": {},
   "source": [
    "# BFS (Breadth-first search)"
   ]
  },
  {
   "cell_type": "code",
   "execution_count": 14,
   "metadata": {},
   "outputs": [
    {
     "name": "stdout",
     "output_type": "stream",
     "text": [
      "deque(['a', 'b', 'c', 'd'])\n",
      "deque(['b', 'c', 'd'])\n",
      "deque(['c', 'd'])\n"
     ]
    }
   ],
   "source": [
    "# Fronta = usporadana kolekce prvku, odebirame a pridavame na opacne\n",
    "# konce, jako u bezne fronty napr. v obchode.\n",
    "queue = deque(['a', 'b', 'c'])  # 'a' na zacatku fronty, 'c' na konci\n",
    "queue.append('d')  # 'd' prisel na konec fronty\n",
    "print(queue)  # deque(['a', 'b', 'c', 'd'])\n",
    "queue.popleft()  # odchazi 'a'\n",
    "print(queue)  # deque(['b', 'c', 'd'])\n",
    "queue.popleft()  # odchazi 'b'\n",
    "print(queue)  # deque(['c', 'd'])"
   ]
  },
  {
   "cell_type": "code",
   "execution_count": 15,
   "metadata": {
    "collapsed": true
   },
   "outputs": [],
   "source": [
    "# TODO: svet, ktery nejde optimalne resit pomoci DFS\n",
    "# (cervi diry nebo nestejna hloubka reseni)"
   ]
  },
  {
   "cell_type": "code",
   "execution_count": 16,
   "metadata": {
    "scrolled": false
   },
   "outputs": [
    {
     "name": "stdout",
     "output_type": "stream",
     "text": [
      "| | |3| | |\n",
      "| | | |2| |\n",
      "| | | | | |\n",
      "| | |W| | |\n",
      "| |1|A| | |\n",
      "| | |0| | |\n"
     ]
    }
   ],
   "source": [
    "def bfs(initial_state):\n",
    "    if initial_state.is_goal():\n",
    "        return [initial_state]\n",
    "    queue = deque([initial_state])\n",
    "    tree = {initial_state: None}  # maps states to their parents\n",
    "    while queue:\n",
    "        LOGGER.log_search_tree(tree)\n",
    "        state = queue.popleft()\n",
    "        for action in actions(state):\n",
    "            next_state = perform(state, action)\n",
    "            if (next_state in tree.keys()\n",
    "                or next_state in queue):\n",
    "                continue\n",
    "            queue.append(next_state)\n",
    "            tree[next_state] = state\n",
    "            # U BFS lze test na cilovy stav provadet uz zde.\n",
    "            if next_state.is_goal():\n",
    "                return reconstruct_path(tree, next_state)\n",
    "\n",
    "# LOGGER.debug(False)\n",
    "# state = parse_state(\n",
    "# '| | | | | |'\n",
    "# '| | | | | |'\n",
    "# '|A|A|A|A| |'\n",
    "# '| | | | | |'\n",
    "# '| | |S| | |')\n",
    "# show_path(bfs(state))\n",
    "LOGGER.debug(False)\n",
    "state = parse_state(\n",
    "'| | | | | |'\n",
    "'| | | |W| |'\n",
    "'| | | | | |'\n",
    "'| | |W| | |'\n",
    "'| | |A| | |'\n",
    "'| | |S| | |')\n",
    "show_path(bfs(state))"
   ]
  },
  {
   "cell_type": "markdown",
   "metadata": {},
   "source": [
    "# Uniform Cost Search (UCS) (Dijkstra)\n",
    "\n",
    "Přidání cen akcí -> DFS ani BFS nestačí.\n",
    "\n",
    "Příklad cen: let dopředu 2, let vlevo/vpravo 3.\n",
    "(nebo lze pridat strileni s vyssi cenou)"
   ]
  },
  {
   "cell_type": "code",
   "execution_count": 17,
   "metadata": {},
   "outputs": [
    {
     "data": {
      "text/plain": [
       "'b'"
      ]
     },
     "execution_count": 17,
     "metadata": {},
     "output_type": "execute_result"
    }
   ],
   "source": [
    "# # TODO: vysvetlit prioritni haldu\n",
    "# from heapq import heappush, heappop\n",
    "\n",
    "# queue = []\n",
    "# heappush(queue, (5, 'a'))  # Vkladame prvek 'a' s prioritou 5.\n",
    "# heappush(queue, (3, 'b'))  # Vkladame prvek 'b' s prioritou 3.\n",
    "# heappush(queue, (7, 'c'))  # Vkladame prvek 'c' s prioritou 7.\n",
    "# print(queue)  # [(3, 'b'), (5, 'a'), (7, 'c')]\n",
    "# print(heappop(queue)) # (3, 'b')\n",
    "# print(queue)  # [(5, 'a'), (7, 'c')]\n",
    "# print(heappop(queue)) # (5, 'a')\n",
    "# print(queue)  # [(7, 'c')]\n",
    "\n",
    "costs = {}\n",
    "costs['a'] = 5\n",
    "costs['b'] = 3\n",
    "costs['c'] = 7\n",
    "min(costs, key=lambda x: costs[x])"
   ]
  },
  {
   "cell_type": "code",
   "execution_count": 18,
   "metadata": {},
   "outputs": [
    {
     "name": "stdout",
     "output_type": "stream",
     "text": [
      "| | | | |4|\n",
      "| | | | |3|\n",
      "|A|A|A|A|2|\n",
      "| | | |1| |\n",
      "| | |0| | |\n"
     ]
    }
   ],
   "source": [
    "from math import inf\n",
    "ACTION_COSTS = {'l': 3, 'f': 2, 'r': 3}\n",
    "\n",
    "def ucs(initial_state):\n",
    "    # Ke kazdeme videnemu stavu ulozime jeho rodice.\n",
    "    tree = {initial_state: None}\n",
    "    # Do fronty ukladame dvojice (cena, stav).\n",
    "    #queue = [(0, initial_state)]\n",
    "    # Budeme zvlast ukladat vsechny ceny (i do jiz prozkoumanych\n",
    "    # vrcholu) a okraj (vrcholy k prozkoumani).\n",
    "    costs = {initial_state: 0}\n",
    "    fringe = {initial_state}\n",
    "    while fringe:\n",
    "        LOGGER.log_costs(costs)\n",
    "        #cost, state = heappop(queue)\n",
    "        state = min(fringe, key=lambda s: costs[s])\n",
    "        fringe.remove(state)\n",
    "        if state.is_goal():\n",
    "            return reconstruct_path(tree, state)\n",
    "        for action in actions(state):\n",
    "            next_state = perform(state, action)\n",
    "            new_cost = costs[state] + ACTION_COSTS[action]\n",
    "            # FIX: kazdy stav je unikatni, potreba implementovat\n",
    "            # komparator, ktery bude povazovat stavy se stejnou\n",
    "            # pozici za ekvivalentni\n",
    "            old_cost = costs.get(next_state, inf)\n",
    "            if new_cost < old_cost:\n",
    "                fringe.add(next_state)\n",
    "                costs[next_state] = new_cost\n",
    "                tree[next_state] = state\n",
    "            \n",
    "LOGGER.debug(False)\n",
    "state = parse_state(\n",
    "'| | | | | |'\n",
    "'| | | | | |'\n",
    "'|A|A|A|A| |'\n",
    "'| | | | | |'\n",
    "'| | |S| | |')\n",
    "show_path(ucs(state))"
   ]
  },
  {
   "cell_type": "markdown",
   "metadata": {},
   "source": [
    "# A*\n",
    "\n",
    "Kombinace UCS a heuristiky.\n",
    "\n",
    "Příklad heuristiky: vertikální vzdálenost od cíle (komplikovanější heuristiky můžou brát v úvahu počet posbíraných diamantů).\n",
    "\n",
    "TODO: ukázat příklad, kdy UCS prohledává zbytečně moc (potřeba červích děr nebo diamantů) a jak to vyřešit pomocí jednoduché heuristiky"
   ]
  },
  {
   "cell_type": "code",
   "execution_count": 19,
   "metadata": {
    "collapsed": true
   },
   "outputs": [],
   "source": [
    "def heuristic_distance(state):\n",
    "    return state.spaceship.row"
   ]
  },
  {
   "cell_type": "code",
   "execution_count": 20,
   "metadata": {},
   "outputs": [
    {
     "data": {
      "text/plain": [
       "3"
      ]
     },
     "execution_count": 20,
     "metadata": {},
     "output_type": "execute_result"
    }
   ],
   "source": [
    "heuristic_distance(parse_state(\n",
    "'| | | | | |'\n",
    "'| | | | | |'\n",
    "'|A|A|A|A| |'\n",
    "'| | |S| | |'\n",
    "'| | | | | |'))"
   ]
  },
  {
   "cell_type": "code",
   "execution_count": 21,
   "metadata": {},
   "outputs": [
    {
     "data": {
      "text/plain": [
       "0"
      ]
     },
     "execution_count": 21,
     "metadata": {},
     "output_type": "execute_result"
    }
   ],
   "source": [
    "heuristic_distance(parse_state(\n",
    "'| | |S| | |'\n",
    "'| | | | | |'\n",
    "'|A|A|A|A| |'\n",
    "'| | | | | |'\n",
    "'| | | | | |'))"
   ]
  },
  {
   "cell_type": "code",
   "execution_count": 22,
   "metadata": {},
   "outputs": [
    {
     "name": "stdout",
     "output_type": "stream",
     "text": [
      "| | | | |4|\n",
      "| | | | |3|\n",
      "|A|A|A|A|2|\n",
      "| | | |1| |\n",
      "| | |0| | |\n"
     ]
    }
   ],
   "source": [
    "# Jako UCS, lisi se jen vypoctem ceny.\n",
    "def a_star(initial_state, heuristic):\n",
    "    # Ke kazdeme videnemu stavu ulozime jeho rodice.\n",
    "    tree = {initial_state: None}\n",
    "    # Do fronty ukladame dvojice (cena, stav).\n",
    "    #queue = [(0, initial_state)]\n",
    "    # Budeme zvlast ukladat vsechny ceny (i do jiz prozkoumanych\n",
    "    # vrcholu) a okraj (vrcholy k prozkoumani).\n",
    "    costs = {initial_state: 0}\n",
    "    fringe = {initial_state}\n",
    "    while fringe:\n",
    "        LOGGER.log_costs(costs, heuristic)\n",
    "        #cost, state = heappop(queue)\n",
    "        # Jedina zmena oproti UCS:\n",
    "        state = min(fringe, key=lambda s: costs[s] + heuristic(s))\n",
    "        fringe.remove(state)\n",
    "        if state.is_goal():\n",
    "            return reconstruct_path(tree, state)\n",
    "        for action in actions(state):\n",
    "            next_state = perform(state, action)\n",
    "            new_cost = costs[state] + ACTION_COSTS[action]          \n",
    "            old_cost = costs.get(next_state, inf)\n",
    "            if new_cost < old_cost:\n",
    "                fringe.add(next_state)\n",
    "                costs[next_state] = new_cost\n",
    "                tree[next_state] = state\n",
    "            \n",
    "LOGGER.debug(False)\n",
    "state = parse_state(\n",
    "'| | | | | |'\n",
    "'| | | | | |'\n",
    "'|A|A|A|A| |'\n",
    "'| | | | | |'\n",
    "'| | |S| | |')\n",
    "show_path(a_star(state, heuristic=heuristic_distance))"
   ]
  },
  {
   "cell_type": "code",
   "execution_count": null,
   "metadata": {
    "collapsed": true
   },
   "outputs": [],
   "source": []
  },
  {
   "cell_type": "markdown",
   "metadata": {},
   "source": [
    "## TODO\n",
    "\n",
    "- intro\n",
    "- DFS\n",
    "- DFS - explain tree search vs. graph search\n",
    "- nastroje pro pohodlne ladeni vsech algoritmu (vizualizace cesty i prubehu planovani (explored/frontier/unexplored states) -> umoznit vypisy (ala logger), vcetne textovych (-> muzu zkopirovat text stavu a vyzkouset si zacit z neho atp.)\n",
    "- DFS - recursive version\n",
    "- BFS (motivace: cervi diry - DFS nemusi najit nejkratsi cestu)\n",
    "- UCS\n",
    "- A\\*\n",
    "- refaktorovat (zprehlednit, zjednodusit, okomenotvat) kod\n",
    "- inline react component for visualizing states, paths (and ideally also allow to play the game... or at least provide a link to task-editor)\n",
    "- rezerva: greedy search, BF, DP, \"patnáctka\" (sliding tiles)\n",
    "- parsovani sveta (jako v JS)\n",
    "- vyfaktorovat pomocné funkce do samostatného .py modulu\n",
    "- hezčí vykreslování stavu (HTML tabulka, react components)\n",
    "- another notebook with stripped solutions\n",
    "- inspirace: Jak to vyresit, Programatorska cvicebnice, Sbirka do Navalu, KSI (napr. Honzovo bludiste, davna DFS/BFS videa), Ucadity AI, EdX AI lecture, google\n",
    "- testing by friends\n",
    "- utopicke: pridat jako dalsi level do RoboMise (s pripravenymi high-level bloky a/nebo v RoboKodu)"
   ]
  },
  {
   "cell_type": "markdown",
   "metadata": {},
   "source": [
    "## Rozšíření\n",
    "* protihráč -> minimax\n",
    "* náhoda, nejistota -> expectimax, MDP (value iteration - DP)\n",
    "* too many states (even infinitely many of them)\n",
    "* continuous actions\n",
    "* ...\n",
    "\n",
    "## Další zdroje\n",
    "* TBA: videa z AI kurzu na EdX"
   ]
  },
  {
   "cell_type": "code",
   "execution_count": null,
   "metadata": {
    "collapsed": true
   },
   "outputs": [],
   "source": []
  },
  {
   "cell_type": "code",
   "execution_count": null,
   "metadata": {
    "collapsed": true
   },
   "outputs": [],
   "source": []
  },
  {
   "cell_type": "code",
   "execution_count": null,
   "metadata": {
    "collapsed": true
   },
   "outputs": [],
   "source": []
  }
 ],
 "metadata": {
  "kernelspec": {
   "display_name": "Python 3",
   "language": "python",
   "name": "python3"
  },
  "language_info": {
   "codemirror_mode": {
    "name": "ipython",
    "version": 3
   },
   "file_extension": ".py",
   "mimetype": "text/x-python",
   "name": "python",
   "nbconvert_exporter": "python",
   "pygments_lexer": "ipython3",
   "version": "3.6.4"
  },
  "widgets": {
   "application/vnd.jupyter.widget-state+json": {
    "state": {
     "04f7680caf4049a7b82f6d242cc1e732": {
      "model_module": "@jupyter-widgets/base",
      "model_module_version": "1.0.0",
      "model_name": "LayoutModel",
      "state": {}
     },
     "07ae1c5be3054d87818683713f0bdee4": {
      "model_module": "@jupyter-widgets/output",
      "model_module_version": "1.0.0",
      "model_name": "OutputModel",
      "state": {
       "layout": "IPY_MODEL_6a8651e8f95d413a8b09bad91f02a8fa",
       "outputs": [
        {
         "data": {
          "text/plain": "'rrfl0'"
         },
         "metadata": {},
         "output_type": "display_data"
        }
       ]
      }
     },
     "0be39d076ec04208823f3dc197f4b909": {
      "model_module": "@jupyter-widgets/base",
      "model_module_version": "1.0.0",
      "model_name": "LayoutModel",
      "state": {}
     },
     "126b76a2ce204dbb9306cdd159fac6ed": {
      "model_module": "@jupyter-widgets/controls",
      "model_module_version": "1.0.0",
      "model_name": "IntSliderModel",
      "state": {
       "description": "Krok",
       "layout": "IPY_MODEL_f8e30bd67acd4c9fac0daac89dcfd05c",
       "max": 4,
       "style": "IPY_MODEL_1cc1838cde554b25bd7ca58f6a22cf6b"
      }
     },
     "199a345ff8f74723bcffd991bf6af6f1": {
      "model_module": "@jupyter-widgets/output",
      "model_module_version": "1.0.0",
      "model_name": "OutputModel",
      "state": {
       "layout": "IPY_MODEL_6ed5304dcff241d5924dea57fee5aed3",
       "outputs": [
        {
         "data": {
          "text/plain": "'rrfl4'"
         },
         "metadata": {},
         "output_type": "display_data"
        }
       ]
      }
     },
     "1ba56bc21b674db4af9c368cd3634f2e": {
      "model_module": "@jupyter-widgets/base",
      "model_module_version": "1.0.0",
      "model_name": "LayoutModel",
      "state": {}
     },
     "1cc1838cde554b25bd7ca58f6a22cf6b": {
      "model_module": "@jupyter-widgets/controls",
      "model_module_version": "1.0.0",
      "model_name": "SliderStyleModel",
      "state": {
       "description_width": ""
      }
     },
     "2952308bdaf5414a84e51bb94180e515": {
      "model_module": "@jupyter-widgets/base",
      "model_module_version": "1.0.0",
      "model_name": "LayoutModel",
      "state": {}
     },
     "2af024bd6bac4d97baaf8f99669520d7": {
      "model_module": "@jupyter-widgets/controls",
      "model_module_version": "1.0.0",
      "model_name": "IntSliderModel",
      "state": {
       "description": "Krok",
       "layout": "IPY_MODEL_6b1c82a408f04d4786c23c862628d9ec",
       "max": 4,
       "style": "IPY_MODEL_386a695c59944b98bed8b3171d03cb1e"
      }
     },
     "31916e0377a845c8990b3df1d21f48f9": {
      "model_module": "@jupyter-widgets/controls",
      "model_module_version": "1.0.0",
      "model_name": "SliderStyleModel",
      "state": {
       "description_width": ""
      }
     },
     "36782541b43a4169b0fad381d105698a": {
      "model_module": "@jupyter-widgets/controls",
      "model_module_version": "1.0.0",
      "model_name": "VBoxModel",
      "state": {
       "_dom_classes": [
        "widget-interact"
       ],
       "children": [
        "IPY_MODEL_b02343b81f7d417cb9b335f9259b8bce",
        "IPY_MODEL_07ae1c5be3054d87818683713f0bdee4"
       ],
       "layout": "IPY_MODEL_0be39d076ec04208823f3dc197f4b909"
      }
     },
     "386a695c59944b98bed8b3171d03cb1e": {
      "model_module": "@jupyter-widgets/controls",
      "model_module_version": "1.0.0",
      "model_name": "SliderStyleModel",
      "state": {
       "description_width": ""
      }
     },
     "39b0da7916734ad9b9fd6604b842e6d3": {
      "model_module": "@jupyter-widgets/controls",
      "model_module_version": "1.0.0",
      "model_name": "VBoxModel",
      "state": {
       "_dom_classes": [
        "widget-interact"
       ],
       "children": [
        "IPY_MODEL_2af024bd6bac4d97baaf8f99669520d7",
        "IPY_MODEL_f08e779637d342469a88eab227c921ab"
       ],
       "layout": "IPY_MODEL_7b5ad44670784c1d86a960f46e460ca9"
      }
     },
     "3e2f7568f9974aab832972319979a8c1": {
      "model_module": "@jupyter-widgets/base",
      "model_module_version": "1.0.0",
      "model_name": "LayoutModel",
      "state": {}
     },
     "4714af76ab8f4325a720f661b4fb1688": {
      "model_module": "@jupyter-widgets/base",
      "model_module_version": "1.0.0",
      "model_name": "LayoutModel",
      "state": {}
     },
     "48144be76a7c4d4cab4258bcdb8ea5ee": {
      "model_module": "@jupyter-widgets/controls",
      "model_module_version": "1.0.0",
      "model_name": "SliderStyleModel",
      "state": {
       "description_width": ""
      }
     },
     "4add001d6a25481ca12252c707fcb227": {
      "model_module": "@jupyter-widgets/controls",
      "model_module_version": "1.0.0",
      "model_name": "IntSliderModel",
      "state": {
       "description": "Krok",
       "layout": "IPY_MODEL_d69c017bc8514c5087260020f4c721f9",
       "max": 4,
       "style": "IPY_MODEL_4f2fd7cc65474a61b63b5cb74ff9a74f",
       "value": 1
      }
     },
     "4f035882c5e0418c86c4105cfecb7ddb": {
      "model_module": "@jupyter-widgets/output",
      "model_module_version": "1.0.0",
      "model_name": "OutputModel",
      "state": {
       "layout": "IPY_MODEL_2952308bdaf5414a84e51bb94180e515",
       "outputs": [
        {
         "data": {
          "text/plain": "'| | | | | |\\n| | | | | |\\n|A|A|A|A| |\\n| | | | | |\\n| | |S| | |'"
         },
         "metadata": {},
         "output_type": "display_data"
        }
       ]
      }
     },
     "4f2fd7cc65474a61b63b5cb74ff9a74f": {
      "model_module": "@jupyter-widgets/controls",
      "model_module_version": "1.0.0",
      "model_name": "SliderStyleModel",
      "state": {
       "description_width": ""
      }
     },
     "518213d9c1d2402a9911687a20219837": {
      "model_module": "@jupyter-widgets/output",
      "model_module_version": "1.0.0",
      "model_name": "OutputModel",
      "state": {
       "layout": "IPY_MODEL_a683d51ac13a4f5096d4a49c6b271c21",
       "outputs": [
        {
         "ename": "TypeError",
         "evalue": "'itertools.accumulate' object is not subscriptable",
         "output_type": "error",
         "traceback": [
          "\u001b[0;31m---------------------------------------------------------------------------\u001b[0m",
          "\u001b[0;31mTypeError\u001b[0m                                 Traceback (most recent call last)",
          "\u001b[0;32m~/anaconda3/envs/ai-search/lib/python3.6/site-packages/ipywidgets/widgets/interaction.py\u001b[0m in \u001b[0;36mupdate\u001b[0;34m(self, *args)\u001b[0m\n\u001b[1;32m    248\u001b[0m                     \u001b[0mvalue\u001b[0m \u001b[0;34m=\u001b[0m \u001b[0mwidget\u001b[0m\u001b[0;34m.\u001b[0m\u001b[0mget_interact_value\u001b[0m\u001b[0;34m(\u001b[0m\u001b[0;34m)\u001b[0m\u001b[0;34m\u001b[0m\u001b[0m\n\u001b[1;32m    249\u001b[0m                     \u001b[0mself\u001b[0m\u001b[0;34m.\u001b[0m\u001b[0mkwargs\u001b[0m\u001b[0;34m[\u001b[0m\u001b[0mwidget\u001b[0m\u001b[0;34m.\u001b[0m\u001b[0m_kwarg\u001b[0m\u001b[0;34m]\u001b[0m \u001b[0;34m=\u001b[0m \u001b[0mvalue\u001b[0m\u001b[0;34m\u001b[0m\u001b[0m\n\u001b[0;32m--> 250\u001b[0;31m                 \u001b[0mself\u001b[0m\u001b[0;34m.\u001b[0m\u001b[0mresult\u001b[0m \u001b[0;34m=\u001b[0m \u001b[0mself\u001b[0m\u001b[0;34m.\u001b[0m\u001b[0mf\u001b[0m\u001b[0;34m(\u001b[0m\u001b[0;34m**\u001b[0m\u001b[0mself\u001b[0m\u001b[0;34m.\u001b[0m\u001b[0mkwargs\u001b[0m\u001b[0;34m)\u001b[0m\u001b[0;34m\u001b[0m\u001b[0m\n\u001b[0m\u001b[1;32m    251\u001b[0m                 \u001b[0mshow_inline_matplotlib_plots\u001b[0m\u001b[0;34m(\u001b[0m\u001b[0;34m)\u001b[0m\u001b[0;34m\u001b[0m\u001b[0m\n\u001b[1;32m    252\u001b[0m                 \u001b[0;32mif\u001b[0m \u001b[0mself\u001b[0m\u001b[0;34m.\u001b[0m\u001b[0mauto_display\u001b[0m \u001b[0;32mand\u001b[0m \u001b[0mself\u001b[0m\u001b[0;34m.\u001b[0m\u001b[0mresult\u001b[0m \u001b[0;32mis\u001b[0m \u001b[0;32mnot\u001b[0m \u001b[0;32mNone\u001b[0m\u001b[0;34m:\u001b[0m\u001b[0;34m\u001b[0m\u001b[0m\n",
          "\u001b[0;32m<ipython-input-18-8d2676849e30>\u001b[0m in \u001b[0;36mshow_plan_step\u001b[0;34m(step)\u001b[0m\n\u001b[1;32m     15\u001b[0m \u001b[0;34m\u001b[0m\u001b[0m\n\u001b[1;32m     16\u001b[0m \u001b[0;32mdef\u001b[0m \u001b[0mshow_plan_step\u001b[0m\u001b[0;34m(\u001b[0m\u001b[0mstep\u001b[0m\u001b[0;34m)\u001b[0m\u001b[0;34m:\u001b[0m\u001b[0;34m\u001b[0m\u001b[0m\n\u001b[0;32m---> 17\u001b[0;31m     \u001b[0mstate\u001b[0m \u001b[0;34m=\u001b[0m \u001b[0mstates\u001b[0m\u001b[0;34m[\u001b[0m\u001b[0mstep\u001b[0m\u001b[0;34m]\u001b[0m\u001b[0;34m\u001b[0m\u001b[0m\n\u001b[0m\u001b[1;32m     18\u001b[0m     \u001b[0;32mreturn\u001b[0m \u001b[0mstr\u001b[0m\u001b[0;34m(\u001b[0m\u001b[0mstate\u001b[0m\u001b[0;34m)\u001b[0m\u001b[0;34m\u001b[0m\u001b[0m\n\u001b[1;32m     19\u001b[0m \u001b[0;34m\u001b[0m\u001b[0m\n",
          "\u001b[0;31mTypeError\u001b[0m: 'itertools.accumulate' object is not subscriptable"
         ]
        }
       ]
      }
     },
     "51eb529b0fec4461a31298673faf9ba4": {
      "model_module": "@jupyter-widgets/controls",
      "model_module_version": "1.0.0",
      "model_name": "VBoxModel",
      "state": {
       "_dom_classes": [
        "widget-interact"
       ],
       "children": [
        "IPY_MODEL_9cfee7fd6b394338a5b3ca3e59100872",
        "IPY_MODEL_4f035882c5e0418c86c4105cfecb7ddb"
       ],
       "layout": "IPY_MODEL_eaf3df9729424f62bd153ed332053b4f"
      }
     },
     "54cc9d28c9fc4333bbaeb32c74262ea4": {
      "model_module": "@jupyter-widgets/output",
      "model_module_version": "1.0.0",
      "model_name": "OutputModel",
      "state": {
       "layout": "IPY_MODEL_7220ea5294b24764aac59e95578aae47",
       "outputs": [
        {
         "name": "stderr",
         "output_type": "stream",
         "text": "/home/xeffenb1/anaconda3/envs/ai-search/lib/python3.6/site-packages/matplotlib/pyplot.py:523: RuntimeWarning: More than 20 figures have been opened. Figures created through the pyplot interface (`matplotlib.pyplot.figure`) are retained until explicitly closed and may consume too much memory. (To control this warning, see the rcParam `figure.max_open_warning`).\n  max_open_warning, RuntimeWarning)\n"
        }
       ]
      }
     },
     "58ec7119ed0a4806a042351d8caba357": {
      "model_module": "@jupyter-widgets/controls",
      "model_module_version": "1.0.0",
      "model_name": "IntSliderModel",
      "state": {
       "description": "Krok",
       "layout": "IPY_MODEL_b9be9c53ef124041be66a58ef4a765dc",
       "max": 4,
       "style": "IPY_MODEL_5c51573d0b51427190b8c8c9eda106f4",
       "value": 4
      }
     },
     "5c51573d0b51427190b8c8c9eda106f4": {
      "model_module": "@jupyter-widgets/controls",
      "model_module_version": "1.0.0",
      "model_name": "SliderStyleModel",
      "state": {
       "description_width": ""
      }
     },
     "5c6d026b89f24929923136317e8c0d6a": {
      "model_module": "@jupyter-widgets/controls",
      "model_module_version": "1.0.0",
      "model_name": "SliderStyleModel",
      "state": {
       "description_width": ""
      }
     },
     "626b307d7fca412faf99256c03d0c6cc": {
      "model_module": "@jupyter-widgets/controls",
      "model_module_version": "1.0.0",
      "model_name": "SliderStyleModel",
      "state": {
       "description_width": ""
      }
     },
     "669b0b45dba54805b5aea4ce8603696e": {
      "model_module": "@jupyter-widgets/controls",
      "model_module_version": "1.0.0",
      "model_name": "IntSliderModel",
      "state": {
       "description": "Krok",
       "layout": "IPY_MODEL_ebd5518599a945f7a54739b1d7b3ee39",
       "max": 4,
       "style": "IPY_MODEL_31916e0377a845c8990b3df1d21f48f9"
      }
     },
     "6a8651e8f95d413a8b09bad91f02a8fa": {
      "model_module": "@jupyter-widgets/base",
      "model_module_version": "1.0.0",
      "model_name": "LayoutModel",
      "state": {}
     },
     "6b1c82a408f04d4786c23c862628d9ec": {
      "model_module": "@jupyter-widgets/base",
      "model_module_version": "1.0.0",
      "model_name": "LayoutModel",
      "state": {}
     },
     "6ca8dfea53214a97839304e3034221e5": {
      "model_module": "@jupyter-widgets/base",
      "model_module_version": "1.0.0",
      "model_name": "LayoutModel",
      "state": {}
     },
     "6ed5304dcff241d5924dea57fee5aed3": {
      "model_module": "@jupyter-widgets/base",
      "model_module_version": "1.0.0",
      "model_name": "LayoutModel",
      "state": {}
     },
     "7220ea5294b24764aac59e95578aae47": {
      "model_module": "@jupyter-widgets/base",
      "model_module_version": "1.0.0",
      "model_name": "LayoutModel",
      "state": {}
     },
     "7908f9d9f0b0467f884101ae8c41c6fe": {
      "model_module": "@jupyter-widgets/base",
      "model_module_version": "1.0.0",
      "model_name": "LayoutModel",
      "state": {}
     },
     "7b5ad44670784c1d86a960f46e460ca9": {
      "model_module": "@jupyter-widgets/base",
      "model_module_version": "1.0.0",
      "model_name": "LayoutModel",
      "state": {}
     },
     "7f39e7863eaa48059994ae69c9aafa38": {
      "model_module": "@jupyter-widgets/base",
      "model_module_version": "1.0.0",
      "model_name": "LayoutModel",
      "state": {}
     },
     "81580ee1350f44778e7bbf0d6c4789ce": {
      "model_module": "@jupyter-widgets/base",
      "model_module_version": "1.0.0",
      "model_name": "LayoutModel",
      "state": {}
     },
     "869fe593bc574f099becc8c2085cfde5": {
      "model_module": "@jupyter-widgets/controls",
      "model_module_version": "1.0.0",
      "model_name": "SliderStyleModel",
      "state": {
       "description_width": ""
      }
     },
     "8de65e8f560c4534b022a31292af3e64": {
      "model_module": "@jupyter-widgets/output",
      "model_module_version": "1.0.0",
      "model_name": "OutputModel",
      "state": {
       "layout": "IPY_MODEL_1ba56bc21b674db4af9c368cd3634f2e",
       "outputs": [
        {
         "data": {
          "image/png": "iVBORw0KGgoAAAANSUhEUgAAASUAAAElCAYAAACiZ/R3AAAABHNCSVQICAgIfAhkiAAAAAlwSFlz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\nBsArlBIAr1BKALxCKQHwCqUEwCv/D2COLZ7Jv9bwAAAAAElFTkSuQmCC\n",
          "text/plain": "<matplotlib.figure.Figure at 0x7f79c58ee4e0>"
         },
         "metadata": {},
         "output_type": "display_data"
        }
       ]
      }
     },
     "8e087d94ae124a55a0b4265953f40172": {
      "model_module": "@jupyter-widgets/base",
      "model_module_version": "1.0.0",
      "model_name": "LayoutModel",
      "state": {}
     },
     "960fe512d9d545dda349399af180cf27": {
      "model_module": "@jupyter-widgets/controls",
      "model_module_version": "1.0.0",
      "model_name": "IntSliderModel",
      "state": {
       "description": "Krok",
       "layout": "IPY_MODEL_f6f13f8421a646d1b4ac665e8b4e4c4c",
       "max": 4,
       "style": "IPY_MODEL_869fe593bc574f099becc8c2085cfde5"
      }
     },
     "9cfee7fd6b394338a5b3ca3e59100872": {
      "model_module": "@jupyter-widgets/controls",
      "model_module_version": "1.0.0",
      "model_name": "IntSliderModel",
      "state": {
       "description": "Krok",
       "layout": "IPY_MODEL_7f39e7863eaa48059994ae69c9aafa38",
       "max": 4,
       "style": "IPY_MODEL_626b307d7fca412faf99256c03d0c6cc"
      }
     },
     "a45e349f196b494cae977e6da5c9b838": {
      "model_module": "@jupyter-widgets/controls",
      "model_module_version": "1.0.0",
      "model_name": "IntSliderModel",
      "state": {
       "description": "Krok",
       "layout": "IPY_MODEL_a814c59fbae14162aea5d811a3cec95b",
       "max": 4,
       "style": "IPY_MODEL_5c6d026b89f24929923136317e8c0d6a"
      }
     },
     "a683d51ac13a4f5096d4a49c6b271c21": {
      "model_module": "@jupyter-widgets/base",
      "model_module_version": "1.0.0",
      "model_name": "LayoutModel",
      "state": {}
     },
     "a79eb331382e4a49be05876a14a5ea3a": {
      "model_module": "@jupyter-widgets/controls",
      "model_module_version": "1.0.0",
      "model_name": "VBoxModel",
      "state": {
       "_dom_classes": [
        "widget-interact"
       ],
       "children": [
        "IPY_MODEL_960fe512d9d545dda349399af180cf27",
        "IPY_MODEL_c39cb1f3efce42ef8c67546c7374af10"
       ],
       "layout": "IPY_MODEL_d849d1d42f8a47b6bb239d06764f8e7f"
      }
     },
     "a814c59fbae14162aea5d811a3cec95b": {
      "model_module": "@jupyter-widgets/base",
      "model_module_version": "1.0.0",
      "model_name": "LayoutModel",
      "state": {}
     },
     "b02343b81f7d417cb9b335f9259b8bce": {
      "model_module": "@jupyter-widgets/controls",
      "model_module_version": "1.0.0",
      "model_name": "IntSliderModel",
      "state": {
       "description": "Krok",
       "layout": "IPY_MODEL_04f7680caf4049a7b82f6d242cc1e732",
       "max": 4,
       "style": "IPY_MODEL_48144be76a7c4d4cab4258bcdb8ea5ee"
      }
     },
     "b09178d709f048c88cacc879c641dfc2": {
      "model_module": "@jupyter-widgets/base",
      "model_module_version": "1.0.0",
      "model_name": "LayoutModel",
      "state": {}
     },
     "b18fe24e437643c498fb0c55cbb3815b": {
      "model_module": "@jupyter-widgets/controls",
      "model_module_version": "1.0.0",
      "model_name": "VBoxModel",
      "state": {
       "_dom_classes": [
        "widget-interact"
       ],
       "children": [
        "IPY_MODEL_126b76a2ce204dbb9306cdd159fac6ed",
        "IPY_MODEL_f5c27d07517d41f5a1fe52da5439231f"
       ],
       "layout": "IPY_MODEL_c498d2d898084bf183a39fa2041a55c1"
      }
     },
     "b8a80126c6754bfaa81ed40ee828e98f": {
      "model_module": "@jupyter-widgets/controls",
      "model_module_version": "1.0.0",
      "model_name": "VBoxModel",
      "state": {
       "_dom_classes": [
        "widget-interact"
       ],
       "children": [
        "IPY_MODEL_4add001d6a25481ca12252c707fcb227",
        "IPY_MODEL_8de65e8f560c4534b022a31292af3e64"
       ],
       "layout": "IPY_MODEL_3e2f7568f9974aab832972319979a8c1"
      }
     },
     "b9be9c53ef124041be66a58ef4a765dc": {
      "model_module": "@jupyter-widgets/base",
      "model_module_version": "1.0.0",
      "model_name": "LayoutModel",
      "state": {}
     },
     "bac60cd7b36c428abad8e7657cf8a6bd": {
      "model_module": "@jupyter-widgets/controls",
      "model_module_version": "1.0.0",
      "model_name": "VBoxModel",
      "state": {
       "_dom_classes": [
        "widget-interact"
       ],
       "children": [
        "IPY_MODEL_58ec7119ed0a4806a042351d8caba357",
        "IPY_MODEL_199a345ff8f74723bcffd991bf6af6f1"
       ],
       "layout": "IPY_MODEL_8e087d94ae124a55a0b4265953f40172"
      }
     },
     "c39cb1f3efce42ef8c67546c7374af10": {
      "model_module": "@jupyter-widgets/output",
      "model_module_version": "1.0.0",
      "model_name": "OutputModel",
      "state": {
       "layout": "IPY_MODEL_b09178d709f048c88cacc879c641dfc2",
       "outputs": [
        {
         "data": {
          "image/png": "iVBORw0KGgoAAAANSUhEUgAAASUAAAElCAYAAACiZ/R3AAAABHNCSVQICAgIfAhkiAAAAAlwSFlz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\nUEoAvEIpAfAKpQTAK/8P9f8tnvid9OcAAAAASUVORK5CYII=\n",
          "text/plain": "<matplotlib.figure.Figure at 0x7f79c579d080>"
         },
         "metadata": {},
         "output_type": "display_data"
        }
       ]
      }
     },
     "c498d2d898084bf183a39fa2041a55c1": {
      "model_module": "@jupyter-widgets/base",
      "model_module_version": "1.0.0",
      "model_name": "LayoutModel",
      "state": {}
     },
     "d69c017bc8514c5087260020f4c721f9": {
      "model_module": "@jupyter-widgets/base",
      "model_module_version": "1.0.0",
      "model_name": "LayoutModel",
      "state": {}
     },
     "d849d1d42f8a47b6bb239d06764f8e7f": {
      "model_module": "@jupyter-widgets/base",
      "model_module_version": "1.0.0",
      "model_name": "LayoutModel",
      "state": {}
     },
     "d891c1fc1b434fcb96ab17e8ed417343": {
      "model_module": "@jupyter-widgets/controls",
      "model_module_version": "1.0.0",
      "model_name": "VBoxModel",
      "state": {
       "_dom_classes": [
        "widget-interact"
       ],
       "children": [
        "IPY_MODEL_669b0b45dba54805b5aea4ce8603696e",
        "IPY_MODEL_518213d9c1d2402a9911687a20219837"
       ],
       "layout": "IPY_MODEL_7908f9d9f0b0467f884101ae8c41c6fe"
      }
     },
     "eaf3df9729424f62bd153ed332053b4f": {
      "model_module": "@jupyter-widgets/base",
      "model_module_version": "1.0.0",
      "model_name": "LayoutModel",
      "state": {}
     },
     "eb64d4b5266b4f308a71321a0f84c51d": {
      "model_module": "@jupyter-widgets/controls",
      "model_module_version": "1.0.0",
      "model_name": "VBoxModel",
      "state": {
       "_dom_classes": [
        "widget-interact"
       ],
       "children": [
        "IPY_MODEL_a45e349f196b494cae977e6da5c9b838",
        "IPY_MODEL_54cc9d28c9fc4333bbaeb32c74262ea4"
       ],
       "layout": "IPY_MODEL_81580ee1350f44778e7bbf0d6c4789ce"
      }
     },
     "ebd5518599a945f7a54739b1d7b3ee39": {
      "model_module": "@jupyter-widgets/base",
      "model_module_version": "1.0.0",
      "model_name": "LayoutModel",
      "state": {}
     },
     "f08e779637d342469a88eab227c921ab": {
      "model_module": "@jupyter-widgets/output",
      "model_module_version": "1.0.0",
      "model_name": "OutputModel",
      "state": {
       "layout": "IPY_MODEL_4714af76ab8f4325a720f661b4fb1688",
       "outputs": [
        {
         "data": {
          "image/png": "iVBORw0KGgoAAAANSUhEUgAAASUAAAElCAYAAACiZ/R3AAAABHNCSVQICAgIfAhkiAAAAAlwSFlz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\nUEoAvEIpAfAKpQTAK/8P9f8tnvid9OcAAAAASUVORK5CYII=\n",
          "text/plain": "<matplotlib.figure.Figure at 0x7f79c58c3cc0>"
         },
         "metadata": {},
         "output_type": "display_data"
        }
       ]
      }
     },
     "f5c27d07517d41f5a1fe52da5439231f": {
      "model_module": "@jupyter-widgets/output",
      "model_module_version": "1.0.0",
      "model_name": "OutputModel",
      "state": {
       "layout": "IPY_MODEL_6ca8dfea53214a97839304e3034221e5",
       "outputs": [
        {
         "data": {
          "image/png": "iVBORw0KGgoAAAANSUhEUgAAASUAAAElCAYAAACiZ/R3AAAABHNCSVQICAgIfAhkiAAAAAlwSFlz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\nUEoAvEIpAfAKpQTAK/8P9f8tnvid9OcAAAAASUVORK5CYII=\n",
          "text/plain": "<matplotlib.figure.Figure at 0x7f79b97d4be0>"
         },
         "metadata": {},
         "output_type": "display_data"
        }
       ]
      }
     },
     "f6f13f8421a646d1b4ac665e8b4e4c4c": {
      "model_module": "@jupyter-widgets/base",
      "model_module_version": "1.0.0",
      "model_name": "LayoutModel",
      "state": {}
     },
     "f8e30bd67acd4c9fac0daac89dcfd05c": {
      "model_module": "@jupyter-widgets/base",
      "model_module_version": "1.0.0",
      "model_name": "LayoutModel",
      "state": {}
     }
    },
    "version_major": 2,
    "version_minor": 0
   }
  }
 },
 "nbformat": 4,
 "nbformat_minor": 2
}
